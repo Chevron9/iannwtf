{
  "nbformat": 4,
  "nbformat_minor": 0,
  "metadata": {
    "colab": {
      "name": "Exercise4.ipynb",
      "provenance": [],
      "collapsed_sections": [],
      "authorship_tag": "ABX9TyM4uhhhXkACbxUW1mzESk4W",
      "include_colab_link": true
    },
    "kernelspec": {
      "name": "python3",
      "display_name": "Python 3"
    },
    "accelerator": "GPU"
  },
  "cells": [
    {
      "cell_type": "markdown",
      "metadata": {
        "id": "view-in-github",
        "colab_type": "text"
      },
      "source": [
        "<a href=\"https://colab.research.google.com/github/Chevron9/iannwtf/blob/master/Exercise4.ipynb\" target=\"_parent\"><img src=\"https://colab.research.google.com/assets/colab-badge.svg\" alt=\"Open In Colab\"/></a>"
      ]
    },
    {
      "cell_type": "code",
      "metadata": {
        "id": "_dCBCJ87LA-V"
      },
      "source": [
        "import numpy as np\n",
        "%tensorflow_version 2.x\n",
        "import tensorflow as tf\n",
        "import matplotlib.pyplot as plt\n",
        "import tensorflow_datasets as tfds"
      ],
      "execution_count": 8,
      "outputs": []
    },
    {
      "cell_type": "code",
      "metadata": {
        "colab": {
          "base_uri": "https://localhost:8080/"
        },
        "id": "4CSXntwaLSa6",
        "outputId": "6463c701-5c9b-4633-eeb8-e8e42762cc1a"
      },
      "source": [
        "train_dataset = tfds.load('Malaria', split=\"train[:80%]\", as_supervised=True)\n",
        "test_dataset = tfds.load('Malaria', split=\"train[80%:]\", as_supervised=True)\n",
        "\n",
        "\n",
        "#resize the images and make the labels a one hot vector\n",
        "train_dataset = train_dataset.map(lambda x,y: (tf.image.resize(x, [125,125]), (tf.reshape(tf.one_hot(y, 2), (-1,)))))\n",
        "test_dataset = test_dataset.map(lambda x,y: (tf.image.resize(x, [125,125]), (tf.reshape(tf.one_hot(y, 2), (-1,)))))\n",
        "#normalize the data\n",
        "train_dataset = train_dataset.map(lambda x,y: (tf.image.per_image_standardization(\n",
        "    x), y))\n",
        "test_dataset = train_dataset.map(lambda x,y: (tf.image.per_image_standardization(\n",
        "    x), y))\n",
        "train_numpy= tfds.as_numpy(train_dataset)\n",
        "\n",
        "\n",
        "for i in train_numpy:\n",
        "  print((i[0])[3][50])\n",
        "  break\n"
      ],
      "execution_count": 9,
      "outputs": [
        {
          "output_type": "stream",
          "text": [
            "[1.1266909  0.13065453 0.31333902]\n"
          ],
          "name": "stdout"
        }
      ]
    },
    {
      "cell_type": "code",
      "metadata": {
        "id": "bikUkchDaMHJ"
      },
      "source": [
        "#shuffel, prefetch and batch the datasets\n",
        "train_dataset = train_dataset.batch(64).shuffle(buffer_size=64).prefetch(128)\n",
        "test_dataset = test_dataset.batch(64).shuffle(buffer_size=64).prefetch(128)"
      ],
      "execution_count": 10,
      "outputs": []
    },
    {
      "cell_type": "code",
      "metadata": {
        "id": "AtIYosySa1Wo"
      },
      "source": [
        "from tensorflow.keras import Model\n",
        "from tensorflow.keras.layers import Layer\n",
        "\n",
        "class Model(Model): \n",
        "    \n",
        "    def __init__(self):\n",
        "        super(Model, self).__init__()\n",
        "        # Define the five layers.\n",
        "        self.conv_layer_1= tf.keras.layers.Conv2D(filters= 32, kernel_size= 3, strides=(1, 1), padding='valid',  activation=tf.keras.activations.sigmoid, input_shape = (64,125,125,3))\n",
        "\n",
        "        self.pool_layer_2= tf.keras.layers.MaxPool2D(pool_size=(2, 2), strides=(2,2), padding='valid', data_format=None)\n",
        "\n",
        "        self.conv_layer_3= tf.keras.layers.Conv2D(filters= 32, kernel_size= 3, strides=(1, 1), padding='valid',  activation=tf.keras.activations.sigmoid, input_shape = (64,125,125,3))\n",
        "\n",
        "        self.pool_layer_4= tf.keras.layers.MaxPool2D(pool_size=(2, 2), strides=(2,2), padding='valid', data_format=None)\n",
        "\n",
        "        self.conv_layer_5= tf.keras.layers.Conv2D(filters= 32, kernel_size= 3, strides=(1, 1), padding='valid',  activation=tf.keras.activations.sigmoid, input_shape = (64,125,125,3))\n",
        "\n",
        "        self.pool_layer_6= tf.keras.layers.MaxPool2D(pool_size=(2, 2), strides=(2,2), padding='valid', data_format=None)\n",
        "\n",
        "        self.conv_layer_7= tf.keras.layers.Conv2D(filters= 32, kernel_size= 3, strides=(1, 1), padding='valid',  activation=tf.keras.activations.sigmoid, input_shape = (64,125,125,3))\n",
        "\n",
        "        self.global_pooling_layer_8 = tf.keras.layers.GlobalAveragePooling2D()\n",
        "\n",
        "        self.hidden_layer_9 = tf.keras.layers.Dense(units=256,activation=tf.keras.activations.sigmoid)\n",
        "\n",
        "        self.output_layer_10 = tf.keras.layers.Dense(units=2, activation=tf.keras.activations.softmax)\n",
        "    @tf.function \n",
        "    def call(self, x):\n",
        "        # Define the forward step.\n",
        "        x = self.conv_layer_1(x)\n",
        "        x = self.pool_layer_2(x)\n",
        "        x = self.conv_layer_3(x)\n",
        "        x = self.pool_layer_4(x)\n",
        "        x = self.conv_layer_5(x)\n",
        "        x = self.pool_layer_6(x)\n",
        "        x = self.conv_layer_7(x)\n",
        "        x = self.global_pooling_layer_8(x)\n",
        "        #x = self.hidden_layer_9(x)\n",
        "        x = self.output_layer_10(x)\n",
        "        return x"
      ],
      "execution_count": 19,
      "outputs": []
    },
    {
      "cell_type": "code",
      "metadata": {
        "id": "6Cs_Lp9-hklM"
      },
      "source": [
        "def train_step(model, input, target, loss_function, optimizer):\n",
        "  # loss_object and optimizer_object are instances of respective tensorflow classes\n",
        "  with tf.GradientTape() as tape:\n",
        "    prediction = model(input)\n",
        "    loss = loss_function(target, prediction)\n",
        "    gradients = tape.gradient(loss, model.trainable_variables)\n",
        "  optimizer.apply_gradients(zip(gradients, model.trainable_variables))\n",
        "  return loss \n",
        "\n",
        "def test(model, test_data, loss_function):\n",
        "  # test over complete test data\n",
        "\n",
        "  test_accuracy_aggregator = []\n",
        "  test_loss_aggregator = []\n",
        "\n",
        "  for (input, target) in test_data:\n",
        "    prediction = model(input)\n",
        "    sample_test_loss = loss_function(target, prediction)\n",
        "    sample_test_accuracy =  np.argmax(target, axis=1) == np.argmax(prediction, axis=1)\n",
        "    sample_test_accuracy = np.mean(sample_test_accuracy)\n",
        "\n",
        "    test_loss_aggregator.append(sample_test_loss.numpy())\n",
        "    test_accuracy_aggregator.append(np.mean(sample_test_accuracy))\n",
        "\n",
        "  test_loss = np.mean(test_loss_aggregator)\n",
        "  test_accuracy = np.mean(test_accuracy_aggregator)\n",
        "\n",
        "  return test_loss, test_accuracy\n",
        "  "
      ],
      "execution_count": 20,
      "outputs": []
    },
    {
      "cell_type": "code",
      "metadata": {
        "colab": {
          "base_uri": "https://localhost:8080/"
        },
        "id": "IP1LVbGGhqc6",
        "outputId": "597a7c84-7388-4069-f73a-3164f11ffa74"
      },
      "source": [
        "tf.keras.backend.clear_session()\n",
        "\n",
        "### Hyperparameters\n",
        "num_epochs = 15\n",
        "learning_rate = 0.00005\n",
        "running_average_factor = 0.95\n",
        "\n",
        "# Initialize the model.\n",
        "model = Model()\n",
        "# Initialize the loss: categorical cross entropy. Check out 'tf.keras.losses'.\n",
        "cross_entropy_loss = tf.keras.losses.BinaryCrossentropy()\n",
        "# Initialize the optimizer: Adam with default parameters. Check out 'tf.keras.optimizers'\n",
        "optimizer = tf.keras.optimizers.SGD(learning_rate)\n",
        "\n",
        "# Initialize lists for later visualization.\n",
        "train_losses = []\n",
        "\n",
        "test_losses = []\n",
        "test_accuracies = []\n",
        "\n",
        "#testing once before we begin\n",
        "test_loss, test_accuracy = test(model, test_dataset, cross_entropy_loss)\n",
        "test_losses.append(test_loss)\n",
        "test_accuracies.append(test_accuracy)\n",
        "\n",
        "#check how model performs on train data once before we begin\n",
        "train_loss, _ = test(model, train_dataset, cross_entropy_loss)\n",
        "train_losses.append(train_loss)\n",
        "\n",
        "# We train for num_epochs epochs.\n",
        "for epoch in range(num_epochs):\n",
        "    print('Epoch: __ ' + str(epoch))\n",
        "\n",
        "    train_dataset = train_dataset.shuffle(buffer_size=128)\n",
        "    test_dataset = test_dataset.shuffle(buffer_size=128)\n",
        "\n",
        "    #training (and checking in with training)\n",
        "    running_average = 0\n",
        "    for (input,target) in train_dataset:\n",
        "        train_loss = train_step(model, input, target, cross_entropy_loss, optimizer)\n",
        "        running_average = running_average_factor * running_average  + (1 - running_average_factor) * train_loss\n",
        "    train_losses.append(running_average)\n",
        "\n",
        "    #testing\n",
        "    test_loss, test_accuracy = test(model, test_dataset, cross_entropy_loss)\n",
        "    test_losses.append(test_loss)\n",
        "    test_accuracies.append(test_accuracy)"
      ],
      "execution_count": 21,
      "outputs": [
        {
          "output_type": "stream",
          "text": [
            "Epoch: __ 0\n",
            "Epoch: __ 1\n",
            "Epoch: __ 2\n",
            "Epoch: __ 3\n",
            "Epoch: __ 4\n",
            "Epoch: __ 5\n",
            "Epoch: __ 6\n",
            "Epoch: __ 7\n",
            "Epoch: __ 8\n",
            "Epoch: __ 9\n",
            "Epoch: __ 10\n",
            "Epoch: __ 11\n",
            "Epoch: __ 12\n",
            "Epoch: __ 13\n",
            "Epoch: __ 14\n"
          ],
          "name": "stdout"
        }
      ]
    },
    {
      "cell_type": "code",
      "metadata": {
        "colab": {
          "base_uri": "https://localhost:8080/",
          "height": 541
        },
        "id": "jUmzatflhvVI",
        "outputId": "353ece17-5368-4ff8-8ebf-b9cc706bef42"
      },
      "source": [
        "# Visualize accuracy and loss for training and test data. \n",
        "# One plot training and test loss.\n",
        "# One plot training and test accuracy.\n",
        "plt.figure()\n",
        "line1, = plt.plot(train_losses)\n",
        "line2, = plt.plot(test_losses)\n",
        "plt.xlabel(\"Training steps\")\n",
        "plt.ylabel(\"Loss\")\n",
        "plt.legend((line1,line2),(\"training\",\"test\"))\n",
        "plt.show()\n",
        "\n",
        "plt.figure()\n",
        "line1, = plt.plot(test_accuracies)\n",
        "plt.xlabel(\"Training steps\")\n",
        "plt.ylabel(\"Accuracy\")\n",
        "plt.show()"
      ],
      "execution_count": 22,
      "outputs": [
        {
          "output_type": "display_data",
          "data": {
            "image/png": "[encoded data removed]",
            "text/plain": [
              "<Figure size 432x288 with 1 Axes>"
            ]
          },
          "metadata": {
            "tags": [],
            "needs_background": "light"
          }
        },
        {
          "output_type": "display_data",
          "data": {
            "image/png": "[encoded data removed]",
            "text/plain": [
              "<Figure size 432x288 with 1 Axes>"
            ]
          },
          "metadata": {
            "tags": [],
            "needs_background": "light"
          }
        }
      ]
    }
  ]
}