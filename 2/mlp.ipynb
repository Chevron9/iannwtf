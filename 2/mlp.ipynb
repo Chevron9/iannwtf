{
  "nbformat": 4,
  "nbformat_minor": 0,
  "metadata": {
    "kernelspec": {
      "display_name": "Python 3",
      "language": "python",
      "name": "python3"
    },
    "language_info": {
      "codemirror_mode": {
        "name": "ipython",
        "version": 3
      },
      "file_extension": ".py",
      "mimetype": "text/x-python",
      "name": "python",
      "nbconvert_exporter": "python",
      "pygments_lexer": "ipython3",
      "version": "3.7.2-final"
    },
    "colab": {
      "name": "Flipped_classroom02.ipynb",
      "provenance": [],
      "collapsed_sections": []
    }
  },
  "cells": [
    {
      "source": [
        "## Perceptron Logical Gates\n",
        "\n",
        "In this notebook we train a perceptron (just a single neuron) to solve logical gates. \n",
        "\n",
        "That means, e.g. for the AND gate, if we put in a 0 and a 1, the perceptron should output 0. It should only output 1 if the input was (1,1).\n",
        "\n",
        "For the XOR gate, the Perceptron should return 1 if only one of the inputs was 1 and the other one 0 -->  (0,1) or (1,0). For (0,0) and (1,1) it should return 0.\n",
        "\n",
        "And so on..."
      ],
      "cell_type": "markdown",
      "metadata": {
        "id": "8D0HUwWAEKeM"
      }
    },
    {
      "cell_type": "code",
      "metadata": {
        "id": "7euT0HdQEKeR"
      },
      "source": [
        "# Based on the flipped classroom notebook\n",
        "# Not using any tf libraries so far...\n",
        "import numpy as np \n",
        "import math"
      ],
      "execution_count": 10,
      "outputs": []
    },
    {
      "cell_type": "code",
      "metadata": {
        "id": "8bO7NpCDEKej"
      },
      "source": [
        "# To make sure that you get the implementation right let us first have a look at the data structure.\n",
        "# These are the four possible input pairs of (x1,x2).\n",
        "x = np.array([[0,0],[0,1],[1,0],[1,1]])\n",
        "# These are possible labels form some logical gates.\n",
        "t_and = np.array([0,0,0,1])\n",
        "t_or = np.array([0,1,1,1])\n",
        "t_nand = np.array([1,1,1,0])\n",
        "t_nor = np.array([1,0,0,0])\n",
        "t_xor = np.array([0,1,1,0])"
      ],
      "execution_count": 11,
      "outputs": []
    },
    {
      "cell_type": "code",
      "execution_count": 12,
      "metadata": {},
      "outputs": [],
      "source": [
        "# activation functions\n",
        "def sigmoid(x):\n",
        "    return 1/(1+np.exp(-x))\n",
        "\n",
        "def sigmoidprime(x):\n",
        "    return sigmoid(x)*(1-sigmoid(x))"
      ]
    },
    {
      "cell_type": "markdown",
      "metadata": {
        "id": "0_PT3Q_gEKer"
      },
      "source": [
        "#### Implement Perceptron."
      ]
    },
    {
      "cell_type": "code",
      "metadata": {
        "id": "pDWFmomzEKet"
      },
      "source": [
        "# To make you familiar with classes we will implement the perceptron as a class.\n",
        "# Check https://docs.python.org/3/tutorial/classes.html if you need basic help with python classes.\n",
        "\n",
        "class Perceptron:\n",
        "    \n",
        "    def __init__(self, input_units):\n",
        "        self.input_units = input_units\n",
        "        # 1. Initialize random weights and a random bias term. Check 'np.random.randn()'.\n",
        "        self.weights = np.random.randn(input_units)\n",
        "        self.bias = np.random.randn()\n",
        "        # 2. Define the learning rate as 0.01.\n",
        "        # DM: homework specifies learnign rate 1 instead\n",
        "        self.alpha = 1\n",
        "        \n",
        "    def forward_step(self, input):\n",
        "        # Perform a perceptron forward step.\n",
        "        # 1. Calculate the drive. You can use @ as a matrix multiplication command.\n",
        "        weighted_sum =  self.weights @ input + self.bias \n",
        "        # An alternative would be:\n",
        "        # weighted_sum =  np.dot(input, self.weights) + self.bias\n",
        "\n",
        "        # 2. Return a 1 or a 0, depending on whether the perceptron surpassed the threshold. \n",
        "        # You can use 'int(...)' to make an integer out of a boolean.\n",
        "        return int(sigmoid(weighted_sum) >= 0.5)\n",
        "        \n",
        "    def training_step(self, input, label):\n",
        "        # Perform a whole training step (including the forward step).\n",
        "        # 1. Forward step.\n",
        "        prediction = self.forward_step(input)\n",
        "        # 2. Calculate the weight updates.\n",
        "        delta_weights = self.alpha * (label - prediction) * input\n",
        "        # 3. Calculate the bias update. We consider 1 as the \"input\" to the bias, so that we can treat it just like the other weights.\n",
        "        delta_bias = self.alpha * (label - prediction) * 1\n",
        "        # 4. Update weights and bias.\n",
        "        self.weights += delta_weights\n",
        "        self.bias += delta_bias\n",
        "\n",
        "    def update(self, delta):\n",
        "        loss_d = \n",
        "        theta_new = theta_old - alpha * nabda * Loss_theta\n"
      ],
      "execution_count": 13,
      "outputs": []
    },
    {
      "cell_type": "code",
      "execution_count": null,
      "metadata": {},
      "outputs": [],
      "source": [
        "class MLP():\n",
        "\n",
        "    def __init__(self):\n",
        "        self.output = None\n",
        "\n",
        "    def forward_step():\n",
        "        pass\n",
        "\n",
        "    def backprop_step():\n",
        "        perceptron.update\n",
        "        pass"
      ]
    },
    {
      "source": [
        "Note that we are **adding** the weights/biases, because we are using the Perceptron Learning rule and **not Gradient Descent**!\n",
        "\n",
        "#### Perceptron Learning Rule Recap:\n",
        "$$w_i^{new} = w_i^{old} + \\Delta w_i  $$\n",
        "$$\\Delta w_i = \\alpha*  (t-y) *x_i $$"
      ],
      "cell_type": "markdown",
      "metadata": {
        "id": "Q7cSOPUIfjzD"
      }
    },
    {
      "cell_type": "markdown",
      "metadata": {
        "id": "DrnCRFB0EKe1"
      },
      "source": [
        "#### Train on AND gate."
      ]
    },
    {
      "cell_type": "code",
      "metadata": {
        "id": "rZ0Bll4-EKe2"
      },
      "source": [
        "# Now let's train the perceptron.\n",
        "\n",
        "# Choose which target you want to train on.\n",
        "t = t_and\n",
        "# Initialize a perceptron.\n",
        "perceptron = Perceptron(2)\n",
        "# Initialize lists to store steps and performance.\n",
        "steps = []\n",
        "accuracies = []\n",
        "\n",
        "# We train for 500 steps.\n",
        "for i in range(500):\n",
        "    steps.append(i)\n",
        "    \n",
        "    # 1. Draw a random sample from x and the corresponding t. Check 'np.random.randint'.\n",
        "    index = np.random.randint(len(x))\n",
        "    sample = x[index]\n",
        "    label = t[index]\n",
        "    # 2. Perform a training step.\n",
        "    perceptron.training_step(sample, label)\n",
        "    \n",
        "    # Calculate the performance over all four possible inputs.\n",
        "    accuracy_sum = 0\n",
        "    for k in range(len(x)):\n",
        "        output = perceptron.forward_step(x[k])   # feed each input to the perceptron (only foward step!)\n",
        "        accuracy_sum += int(output == t[k])  # this turns true if the perceptron gave the right output --> then adds 1 \n",
        "    accuracy = accuracy_sum / 4                  # we divide through all the training examples\n",
        "    accuracies.append(accuracy)"
      ],
      "execution_count": 14,
      "outputs": []
    },
    {
      "cell_type": "markdown",
      "metadata": {
        "id": "88m7nylyqaly"
      },
      "source": [
        "#### Let's give it a try:\n"
      ]
    },
    {
      "cell_type": "code",
      "metadata": {
        "id": "q4bZnF_tchiQ",
        "outputId": "47e73964-b082-4ba8-f06f-6f9b25a106cd",
        "colab": {
          "base_uri": "https://localhost:8080/"
        }
      },
      "source": [
        "for n in range(len(x)):\n",
        "  output = perceptron.forward_step(x[n])\n",
        "  print(\"Input: %s \\t True Label: %d \\t Perceptron's Prediction: %d\" % (np.array2string(x[n]), t[n], output))\n"
      ],
      "execution_count": 15,
      "outputs": [
        {
          "output_type": "stream",
          "name": "stdout",
          "text": [
            "Input: [0 0] \t True Label: 0 \t Perceptron's Prediction: 0\nInput: [0 1] \t True Label: 0 \t Perceptron's Prediction: 0\nInput: [1 0] \t True Label: 0 \t Perceptron's Prediction: 0\nInput: [1 1] \t True Label: 1 \t Perceptron's Prediction: 1\n"
          ]
        }
      ]
    },
    {
      "cell_type": "markdown",
      "metadata": {
        "id": "O8vk4Qe2EKe9"
      },
      "source": [
        "#### Visualize training progress."
      ]
    },
    {
      "cell_type": "code",
      "metadata": {
        "id": "QmodvcrUEKfA",
        "outputId": "8f1c00b4-f706-4fdc-8fdf-1967dab1d114",
        "colab": {
          "base_uri": "https://localhost:8080/",
          "height": 283
        }
      },
      "source": [
        "# Lastly let's plot the training progress.\n",
        "import matplotlib.pyplot as plt\n",
        "plt.figure()\n",
        "plt.plot(steps, accuracies)\n",
        "plt.xlabel(\"Training Steps\")\n",
        "plt.ylabel(\"Accuracy\")\n",
        "plt.ylim([-0.1, 1.2])\n",
        "plt.show()"
      ],
      "execution_count": 16,
      "outputs": [
        {
          "output_type": "display_data",
          "data": {
            "text/plain": "<Figure size 432x288 with 1 Axes>",
            "image/png": "[encoded data removed]"
          },
          "metadata": {
            "needs_background": "light"
          }
        }
      ]
    },
    {
      "cell_type": "markdown",
      "metadata": {
        "id": "oU3aBtCpEKfF"
      },
      "source": [
        "#### Train on XOR gate."
      ]
    },
    {
      "cell_type": "code",
      "metadata": {
        "id": "FPgctnhDEKfH"
      },
      "source": [
        "# Initialize a perceptron.\n",
        "perceptron = Perceptron(2)\n",
        "# Initialize list to store performance.\n",
        "accuracies = []\n",
        "steps =[]\n",
        "\n",
        "# We train for 500 steps.\n",
        "for i in range(500):\n",
        "    steps.append(i)\n",
        "    \n",
        "    # 1. Draw a random sample from x and the corresponding t. Check 'np.random.randint'.\n",
        "    index = np.random.randint(len(x))\n",
        "    sample = x[index]\n",
        "    label = t_xor[index]\n",
        "    # 2. Perform a training step.\n",
        "    perceptron.training_step(sample, label)\n",
        "    \n",
        "    # Calculate the performance over all four possible inputs.\n",
        "    accuracy_sum = 0\n",
        "    for k in range(4):\n",
        "        output = perceptron.forward_step(x[k])   # feed each input to the perceptron (only foward step!)\n",
        "        accuracy_sum += int(output == t_xor[k])  # this turns true if the perceptron gave the right output --> then adds 1 \n",
        "    accuracy = accuracy_sum / 4                  # we divide through all the training examples\n",
        "    accuracies.append(accuracy)"
      ],
      "execution_count": 17,
      "outputs": []
    },
    {
      "cell_type": "markdown",
      "metadata": {
        "id": "LRpkOcWoEKfP"
      },
      "source": [
        "#### Visualize training progress."
      ]
    },
    {
      "cell_type": "code",
      "metadata": {
        "id": "ttCxt0aGEKfS",
        "outputId": "f764834a-2298-4baa-8134-dcd92da2bbc2",
        "colab": {
          "base_uri": "https://localhost:8080/",
          "height": 283
        }
      },
      "source": [
        "plt.figure()\n",
        "plt.plot(steps, accuracies)\n",
        "plt.xlabel(\"Training Steps\")\n",
        "plt.ylabel(\"Accuracy\")\n",
        "plt.ylim([-0.1, 1.2])\n",
        "plt.show()"
      ],
      "execution_count": 18,
      "outputs": [
        {
          "output_type": "display_data",
          "data": {
            "text/plain": "<Figure size 432x288 with 1 Axes>",
            "image/png": "[encoded data removed]"
          },
          "metadata": {
            "needs_background": "light"
          }
        }
      ]
    },
    {
      "cell_type": "code",
      "execution_count": null,
      "metadata": {},
      "outputs": [],
      "source": []
    }
  ]
}