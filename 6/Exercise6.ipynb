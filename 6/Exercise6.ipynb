{
  "nbformat": 4,
  "nbformat_minor": 0,
  "metadata": {
    "colab": {
      "name": "Exercise6.ipynb",
      "provenance": [],
      "collapsed_sections": [],
      "authorship_tag": "ABX9TyOOxPviAKL82DGUl5FPIb1D",
      "include_colab_link": true
    },
    "kernelspec": {
      "name": "python3",
      "display_name": "Python 3"
    }
  },
  "cells": [
    {
      "cell_type": "markdown",
      "metadata": {
        "id": "view-in-github",
        "colab_type": "text"
      },
      "source": [
        "<a href=\"https://colab.research.google.com/github/Chevron9/iannwtf/blob/Roho6/6/Exercise6.ipynb\" target=\"_parent\"><img src=\"https://colab.research.google.com/assets/colab-badge.svg\" alt=\"Open In Colab\"/></a>"
      ]
    },
    {
      "cell_type": "code",
      "metadata": {
        "id": "DpJWS-A2f23-"
      },
      "source": [
        "import numpy as np\n",
        "%tensorflow_version 2.x\n",
        "import tensorflow as tf\n",
        "import matplotlib.pyplot as plt\n",
        "import tensorflow_datasets as tfds"
      ],
      "execution_count": 1,
      "outputs": []
    },
    {
      "cell_type": "code",
      "metadata": {
        "colab": {
          "base_uri": "https://localhost:8080/",
          "height": 424
        },
        "id": "IVZ_ueX-kDLj",
        "outputId": "3236e9f9-dff7-48bb-d165-e8c4aecaa62c"
      },
      "source": [
        "#loads the dataset and splits into test and training data\n",
        "train_dataset = tfds.load('Cifar10', split=\"train[:100%]\", as_supervised=True)\n",
        "test_dataset = tfds.load('Cifar10', split=\"test[:100%]\", as_supervised=True)\n",
        "\n",
        "#normalize the images and make the labels a one hot vector\n",
        "train_dataset = train_dataset.map(lambda x,y:((tf.image.per_image_standardization(\n",
        "    tf.cast(x, tf.float32))), (tf.reshape(tf.one_hot(y, 10), (-1,)))))\n",
        "test_dataset = test_dataset.map(lambda x,y:((tf.image.per_image_standardization(\n",
        "     tf.cast(x, tf.float32))), (tf.reshape(tf.one_hot(y, 10), (-1,)))))\n",
        "\n",
        "\n",
        "#creats numpy array to print \n",
        "train_numpy= tfds.as_numpy(train_dataset)\n",
        "test_numpy = tfds.as_numpy(test_dataset)\n",
        "print(len(train_dataset))\n",
        "print(len(test_dataset))\n",
        "#looks if the format is still correct\n",
        "for i in train_numpy:\n",
        "  print((type(i[0])))\n",
        "  break\n",
        "for i in test_numpy:\n",
        "  print((type(i[0])))\n",
        "  break\n",
        "\n",
        "#shows some images \n",
        "fig, ax = plt.subplots(5,1)\n",
        "x = 0\n",
        "for j in train_numpy:\n",
        "\n",
        "  # Readout an image and the corresponding label.\n",
        "  img = j[0]\n",
        "  lbl = j[1]\n",
        "\n",
        "  ax[x].imshow(img)\n",
        "  ax[x].set_title(lbl[7])\n",
        "  ax[x].axis(\"off\")\n",
        "\n",
        "  x += 1\n",
        "\n",
        "  if x==5:\n",
        "    break"
      ],
      "execution_count": 3,
      "outputs": [
        {
          "output_type": "stream",
          "text": [
            "50000\n",
            "10000\n",
            "<class 'numpy.ndarray'>\n",
            "<class 'numpy.ndarray'>\n"
          ],
          "name": "stdout"
        },
        {
          "output_type": "stream",
          "text": [
            "WARNING:matplotlib.image:Clipping input data to the valid range for imshow with RGB data ([0..1] for floats or [0..255] for integers).\n",
            "WARNING:matplotlib.image:Clipping input data to the valid range for imshow with RGB data ([0..1] for floats or [0..255] for integers).\n",
            "WARNING:matplotlib.image:Clipping input data to the valid range for imshow with RGB data ([0..1] for floats or [0..255] for integers).\n",
            "WARNING:matplotlib.image:Clipping input data to the valid range for imshow with RGB data ([0..1] for floats or [0..255] for integers).\n",
            "WARNING:matplotlib.image:Clipping input data to the valid range for imshow with RGB data ([0..1] for floats or [0..255] for integers).\n"
          ],
          "name": "stderr"
        },
        {
          "output_type": "display_data",
          "data": {
            "image/png": "[encoded data removed]",
            "text/plain": [
              "<Figure size 432x288 with 5 Axes>"
            ]
          },
          "metadata": {
            "tags": [],
            "needs_background": "light"
          }
        }
      ]
    },
    {
      "cell_type": "code",
      "metadata": {
        "id": "BYeyL5L8kHIw"
      },
      "source": [
        "#shuffel, prefetch and batch the datasets\n",
        "train_dataset = train_dataset.batch(64).shuffle(buffer_size=64).prefetch(64)\n",
        "test_dataset = test_dataset.batch(64).shuffle(buffer_size=64).prefetch(64)"
      ],
      "execution_count": 4,
      "outputs": []
    },
    {
      "cell_type": "code",
      "metadata": {
        "id": "6iWsOptfgr2G"
      },
      "source": [
        "from tensorflow.keras import Model\n",
        "from tensorflow.keras.layers import Layer\n",
        "\n",
        "#Residualblock class gives you a residual block of alternating convolutional and batch normalization layers\n",
        "class ResidualBlock(Layer):\n",
        "\n",
        "  def __init__(self, input_shape):\n",
        "\n",
        "    super(ResidualBlock, self).__init__()\n",
        "\n",
        "\n",
        "    self.relu = tf.keras.activations.relu\n",
        "\n",
        "    self.conv_layer_1= tf.keras.layers.Conv2D(filters= 32, kernel_size= 1,\n",
        "                                                    strides=(1, 1), padding='same',\n",
        "                                                    input_shape = input_shape,\n",
        "                                                    kernel_regularizer=tf.keras.regularizers.L2(0.01))\n",
        "        \n",
        "    self.batch_normalization_layer_1 = tf.keras.layers.BatchNormalization()\n",
        "\n",
        "    self.conv_layer_2= tf.keras.layers.Conv2D(filters = 32, kernel_size= 3,\n",
        "                                                    strides=(1, 1), padding='same',\n",
        "                                                    kernel_regularizer=tf.keras.regularizers.L2(0.01))\n",
        "    \n",
        "    self.batch_normalization_layer_2 = tf.keras.layers.BatchNormalization()\n",
        "\n",
        "    self.conv_layer_3= tf.keras.layers.Conv2D(filters= 32, kernel_size= 1,\n",
        "                                                    strides=(1, 1), padding='same',\n",
        "                                                    kernel_regularizer=tf.keras.regularizers.L2(0.01))\n",
        "    \n",
        "    self.batch_normalization_layer_3 = tf.keras.layers.BatchNormalization()\n",
        "\n",
        "  def call(self, x, training = True):\n",
        "    input = x\n",
        "    x = self.conv_layer_1(x)\n",
        "    x = self.batch_normalization_layer_1(x, training)\n",
        "    x = self.relu(x)\n",
        "\n",
        "    x = self.conv_layer_2(x)\n",
        "    x = self.batch_normalization_layer_2(x, training)\n",
        "    x = self.relu(x)\n",
        "\n",
        "    x = self.conv_layer_3(x)\n",
        "    x = self.batch_normalization_layer_3(x, training)\n",
        "    x = self.relu(x)\n",
        "\n",
        "    \n",
        "    return tf.add(x, input)\n",
        "\n"
      ],
      "execution_count": 13,
      "outputs": []
    },
    {
      "cell_type": "code",
      "metadata": {
        "id": "Vb8Da5TegPVp"
      },
      "source": [
        "from tensorflow.keras import Model\n",
        "from tensorflow.keras.layers import Layer\n",
        "\n",
        "# gives you a residual network \n",
        "class ResNet(Model): \n",
        "    \n",
        "    def __init__(self):\n",
        "        super(ResNet, self).__init__()\n",
        "        # Define the three layers.\n",
        "\n",
        "        depth = 1\n",
        "      \n",
        "        self.convolutional_layer1 = tf.keras.layers.Conv2D(filters= 32, kernel_size= 3,\n",
        "                                                  strides=(1, 1), padding='same',\n",
        "                                                  input_shape = (64,32,32,3),\n",
        "         \n",
        "                                                 kernel_regularizer=tf.keras.regularizers.L2(0.01), activation = tf.keras.activations.relu)\n",
        "        \n",
        "        self.residual_blocks = [ResidualBlock((64,32,32,32)) for i in range(depth)]\n",
        "\n",
        "        self.global_pooling_layer = tf.keras.layers.GlobalAveragePooling2D()\n",
        "        self.output_layer = tf.keras.layers.Dense(units=10, activation=tf.keras.activations.softmax)\n",
        "\n",
        "    def call(self, x, training = True):\n",
        "        # Define the forward step.\n",
        "        x = self.convolutional_layer1(x)\n",
        "        for i in self.residual_blocks:\n",
        "          x = i(x)\n",
        "       \n",
        "        x = self.global_pooling_layer(x)\n",
        "        x = self.output_layer(x)\n",
        "        return x"
      ],
      "execution_count": 14,
      "outputs": []
    },
    {
      "cell_type": "code",
      "metadata": {
        "id": "kYXSaVNLsxr3"
      },
      "source": [
        "from tensorflow.keras import Model\n",
        "from tensorflow.keras.layers import Layer\n",
        "#is a transitional layer for a dense network\n",
        "class TransitionalLayer(Layer):\n",
        "\n",
        "  def __init__(self, input_shape):\n",
        "\n",
        "    super(TransitionalLayer, self).__init__()\n",
        "\n",
        "\n",
        "  \n",
        "\n",
        "    self.conv_layer_1= tf.keras.layers.Conv2D(filters= input_shape[-1]/2, kernel_size= 1,\n",
        "                                                    strides=(1, 1), padding='same',\n",
        "                                                    input_shape = input_shape,\n",
        "                                                    kernel_regularizer=tf.keras.regularizers.L2(0.01)\n",
        "                                              )\n",
        "\n",
        "    self.batch_normalization_layer_1 = tf.keras.layers.BatchNormalization()\n",
        "\n",
        "    self.relu = tf.keras.activations.relu\n",
        "\n",
        "    self.pooling = tf.keras.layers.AveragePooling2D(pool_size=(1,1))\n",
        "      \n",
        "\n",
        "    \n",
        "    \n",
        "\n",
        "  def call(self, x, training = True):\n",
        "    x = self.conv_layer_1(x)\n",
        "    x = self.batch_normalization_layer_1(x)\n",
        "    x = self.relu(x)\n",
        "    x = self.pooling(x)\n",
        "    \n",
        "    return x\n",
        "\n"
      ],
      "execution_count": 15,
      "outputs": []
    },
    {
      "cell_type": "code",
      "metadata": {
        "id": "nWZ6Mn_X7Y9u"
      },
      "source": [
        "from tensorflow.keras import Model\n",
        "from tensorflow.keras.layers import Layer\n",
        "# block of one convolutional layer and batch normalization \n",
        "class Block(Layer):\n",
        "  def __init__(self, input_shape):\n",
        "    super(Block, self).__init__()\n",
        "\n",
        "    self.conv = tf.keras.layers.Conv2D(filters= input_shape[-1], kernel_size= 3,\n",
        "                                                    strides=(1, 1), padding='same',\n",
        "                                                    input_shape = input_shape,\n",
        "                                                    kernel_regularizer=tf.keras.regularizers.L2(0.01)\n",
        "                                            )\n",
        "    self.norm = tf.keras.layers.BatchNormalization()\n",
        "\n",
        "    \n",
        "  def call(self, x, training = True):\n",
        "    input = x\n",
        "    x = self.conv(x)\n",
        "    x = self.norm(x)\n",
        "    x = tf.keras.activations.relu(x)\n",
        "    x = tf.keras.layers.concatenate([input, x], axis=-1)\n",
        "    return x"
      ],
      "execution_count": 16,
      "outputs": []
    },
    {
      "cell_type": "code",
      "metadata": {
        "id": "HDHw_K0N-nrx"
      },
      "source": [
        "from tensorflow.keras import Model\n",
        "from tensorflow.keras.layers import Layer\n",
        "# gives a whole dense Block\n",
        "class DenseBlock(Layer):\n",
        "  \n",
        "  def __init__(self, input_shape, depth = 3):\n",
        "    super(DenseBlock, self).__init__()\n",
        "    self.layers = []\n",
        "    for i in range(depth):\n",
        "      self.layers.append(Block(input_shape))\n",
        "    \n",
        "  def call(self, x, training = True):\n",
        "    \n",
        "    for i in self.layers:\n",
        "      x = i(x)\n",
        "      \n",
        "    return x\n",
        "\n",
        "  "
      ],
      "execution_count": 17,
      "outputs": []
    },
    {
      "cell_type": "code",
      "metadata": {
        "id": "b1qXFMic8QDq"
      },
      "source": [
        "from tensorflow.keras import Model\n",
        "from tensorflow.keras.layers import Layer\n",
        "#Predefined dense network\n",
        "class DenseNet(Model): \n",
        "    \n",
        "    def __init__(self):\n",
        "        super(DenseNet, self).__init__()\n",
        "        # Define the three layers.\n",
        "        alterations = 1\n",
        "        self.convolutional_layer1 = tf.keras.layers.Conv2D(filters= 32, kernel_size= 3,\n",
        "                                                  strides=(1, 1), padding='same',\n",
        "                                                  input_shape = (64,32,32,3),\n",
        "                                                  kernel_regularizer=tf.keras.regularizers.L2(0.01), activation = tf.keras.activations.relu)\n",
        "        \n",
        "\n",
        "        self.list_of_alterations =[]\n",
        "        for i in range(alterations):\n",
        "          self.list_of_alterations.append(DenseBlock((64,32,32,32)))\n",
        "\n",
        "          self.list_of_alterations.append(TransitionalLayer((64,32,32,32)))\n",
        "\n",
        "        self.global_pooling_layer = tf.keras.layers.GlobalAveragePooling2D()\n",
        "        self.output_layer = tf.keras.layers.Dense(units=10, activation=tf.keras.activations.softmax)\n",
        "\n",
        "    def call(self, x, training = True):\n",
        "        # Define the forward step.\n",
        "        x = self.convolutional_layer1(x)\n",
        "        x = self.dense_layer(x, training)\n",
        "        x = self.global_pooling_layer(x)\n",
        "        x = self.output_layer(x)\n",
        "        return x"
      ],
      "execution_count": 18,
      "outputs": []
    },
    {
      "cell_type": "code",
      "metadata": {
        "id": "EFdqaA58mkHq"
      },
      "source": [
        "def train_step(model, input, target, loss_function, optimizer):\n",
        "  # loss_object and optimizer_object are instances of respective tensorflow classes\n",
        "  with tf.GradientTape() as tape:\n",
        "    prediction = model(input)\n",
        "    loss = loss_function(target, prediction) + tf.reduce_sum(model.losses)\n",
        "    gradients = tape.gradient(loss, model.trainable_variables)\n",
        "  optimizer.apply_gradients(zip(gradients, model.trainable_variables))\n",
        "  return loss\n",
        "\n",
        "def test(model, test_data, loss_function):\n",
        "  # test over complete test data\n",
        "\n",
        "  test_accuracy_aggregator = []\n",
        "  test_loss_aggregator = []\n",
        "\n",
        "  for (input, target) in test_data:\n",
        "    prediction = model(input, training = False)\n",
        "    sample_test_loss = loss_function(target, prediction)\n",
        "    sample_test_accuracy =  np.argmax(target, axis=1) == np.argmax(prediction, axis=1)\n",
        "    sample_test_accuracy = np.mean(sample_test_accuracy)\n",
        "\n",
        "    test_loss_aggregator.append(sample_test_loss.numpy())\n",
        "    test_accuracy_aggregator.append(np.mean(sample_test_accuracy))\n",
        "\n",
        "  test_loss = np.mean(test_loss_aggregator)\n",
        "  test_accuracy = np.mean(test_accuracy_aggregator)\n",
        "\n",
        "  return test_loss, test_accuracy"
      ],
      "execution_count": 19,
      "outputs": []
    },
    {
      "cell_type": "code",
      "metadata": {
        "id": "fcg1NBYnmkuj"
      },
      "source": [
        "tf.keras.backend.clear_session()\n",
        "\n",
        "### Hyperparameters\n",
        "num_epochs = 5\n",
        "learning_rate = 0.00006\n",
        "running_average_factor = 0.95\n",
        "\n",
        "# Initialize the model.\n",
        "model = ResNet()\n",
        "# Initialize the loss: categorical cross entropy. Check out 'tf.keras.losses'.\n",
        "cross_entropy_loss = tf.keras.losses.CategoricalCrossentropy()\n",
        "# Initialize the optimizer: Adam with default parameters. Check out 'tf.keras.optimizers'\n",
        "optimizer = tf.keras.optimizers.Adam(learning_rate)\n",
        "\n",
        "# Initialize lists for later visualization.\n",
        "train_losses = []\n",
        "\n",
        "test_losses = []\n",
        "test_accuracies = []\n",
        "\n",
        "#testing once before we begin\n",
        "test_loss, test_accuracy = test(model, test_dataset, cross_entropy_loss)\n",
        "test_losses.append(test_loss)\n",
        "test_accuracies.append(test_accuracy)\n",
        "\n",
        "#check how model performs on train data once before we begin\n",
        "train_loss, _ = test(model, train_dataset, cross_entropy_loss)\n",
        "train_losses.append(train_loss)\n",
        "\n",
        "#We train for num_epochs epochs.\n",
        "for epoch in range(num_epochs):\n",
        "    print('Epoch: __ ' + str(epoch))\n",
        "\n",
        "    train_dataset = train_dataset.shuffle(buffer_size=128)\n",
        "    test_dataset = test_dataset.shuffle(buffer_size=128)\n",
        "\n",
        "    #training (and checking in with training)\n",
        "    running_average = 0\n",
        "    for (input,target) in train_dataset:\n",
        "        train_loss = train_step(model, input, target, cross_entropy_loss, optimizer)\n",
        "        running_average = running_average_factor * running_average  + (1 - running_average_factor) * train_loss\n",
        "    train_losses.append(running_average)\n",
        "\n",
        "    #testing\n",
        "    test_loss, test_accuracy = test(model, test_dataset, cross_entropy_loss)\n",
        "    test_losses.append(test_loss)\n",
        "    test_accuracies.append(test_accuracy)\n",
        "\n",
        "    # Visualize accuracy and loss for training and test data. \n",
        "    # One plot training and test loss.\n",
        "    # One plot training and test accuracy.\n",
        "    plt.figure()\n",
        "    line1, = plt.plot(train_losses)\n",
        "    line2, = plt.plot(test_losses)\n",
        "    plt.xlabel(\"Training steps\")\n",
        "    plt.ylabel(\"Loss\")\n",
        "    plt.legend((line1,line2),(\"training\",\"test\"))\n",
        "    plt.show()\n",
        "\n",
        "    plt.figure()\n",
        "    line1, = plt.plot(test_accuracies)\n",
        "    plt.xlabel(\"Training steps\")\n",
        "    plt.ylabel(\"Accuracy\")\n",
        "    plt.show()"
      ],
      "execution_count": null,
      "outputs": []
    }
  ]
}