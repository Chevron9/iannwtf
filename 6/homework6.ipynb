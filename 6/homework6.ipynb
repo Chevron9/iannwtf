{
 "metadata": {
  "language_info": {
   "codemirror_mode": {
    "name": "ipython",
    "version": 3
   },
   "file_extension": ".py",
   "mimetype": "text/x-python",
   "name": "python",
   "nbconvert_exporter": "python",
   "pygments_lexer": "ipython3",
   "version": "3.7.2-final"
  },
  "orig_nbformat": 2,
  "kernelspec": {
   "name": "python3",
   "display_name": "Python 3"
  }
 },
 "nbformat": 4,
 "nbformat_minor": 2,
 "cells": [
  {
   "cell_type": "code",
   "execution_count": 1,
   "metadata": {},
   "outputs": [],
   "source": [
    "import numpy as np\n",
    "#%tensorflow_version 2.x\n",
    "import tensorflow as tf\n",
    "import matplotlib.pyplot as plt\n",
    "import tensorflow_datasets as tfds\n",
    "\n",
    "from tensorflow.keras import Model\n",
    "from tensorflow.keras.layers import Layer"
   ]
  },
  {
   "cell_type": "code",
   "execution_count": 2,
   "metadata": {},
   "outputs": [
    {
     "output_type": "stream",
     "name": "stdout",
     "text": [
      "Downloading and preparing dataset cifar10/3.0.2 (download: Unknown size, generated: Unknown size, total: Unknown size) to data\\cifar10\\3.0.2...\n"
     ]
    },
    {
     "output_type": "display_data",
     "data": {
      "text/plain": "HBox(children=(IntProgress(value=1, bar_style='info', description='Dl Completed...', max=1, style=ProgressStyl…",
      "application/vnd.jupyter.widget-view+json": {
       "version_major": 2,
       "version_minor": 0,
       "model_id": "4869c297405c4430b6d4e21c868440b6"
      }
     },
     "metadata": {}
    },
    {
     "output_type": "display_data",
     "data": {
      "text/plain": "HBox(children=(IntProgress(value=1, bar_style='info', description='Dl Size...', max=1, style=ProgressStyle(des…",
      "application/vnd.jupyter.widget-view+json": {
       "version_major": 2,
       "version_minor": 0,
       "model_id": "7458d44637a04414bbe9d7cf179332f8"
      }
     },
     "metadata": {}
    },
    {
     "output_type": "display_data",
     "data": {
      "text/plain": "HBox(children=(IntProgress(value=1, bar_style='info', description='Extraction completed...', max=1, style=Prog…",
      "application/vnd.jupyter.widget-view+json": {
       "version_major": 2,
       "version_minor": 0,
       "model_id": "7832119b5dfe4f9a8d6c59653fe3dff3"
      }
     },
     "metadata": {}
    },
    {
     "output_type": "stream",
     "name": "stdout",
     "text": [
      "\n",
      "\n",
      "\n",
      "\n"
     ]
    },
    {
     "output_type": "display_data",
     "data": {
      "text/plain": "HBox(children=(IntProgress(value=0, max=2), HTML(value='')))",
      "application/vnd.jupyter.widget-view+json": {
       "version_major": 2,
       "version_minor": 0,
       "model_id": "dfeb23049c8a492c8aec0057eebd1dd2"
      }
     },
     "metadata": {}
    },
    {
     "output_type": "display_data",
     "data": {
      "text/plain": "HBox(children=(IntProgress(value=1, bar_style='info', max=1), HTML(value='')))",
      "application/vnd.jupyter.widget-view+json": {
       "version_major": 2,
       "version_minor": 0,
       "model_id": "879535a7b2104b85add6b9ebb0cb7209"
      }
     },
     "metadata": {}
    },
    {
     "output_type": "stream",
     "name": "stdout",
     "text": [
      "Shuffling and writing examples to data/cifar10/3.0.2.incompleteHCFC52/cifar10-train.tfrecord\n"
     ]
    },
    {
     "output_type": "display_data",
     "data": {
      "text/plain": "HBox(children=(IntProgress(value=0, max=50000), HTML(value='')))",
      "application/vnd.jupyter.widget-view+json": {
       "version_major": 2,
       "version_minor": 0,
       "model_id": "8e0a784760194c03bfd7613433a7cad2"
      }
     },
     "metadata": {}
    },
    {
     "output_type": "display_data",
     "data": {
      "text/plain": "HBox(children=(IntProgress(value=1, bar_style='info', max=1), HTML(value='')))",
      "application/vnd.jupyter.widget-view+json": {
       "version_major": 2,
       "version_minor": 0,
       "model_id": "e14da4e64d7a4db9aca08b013139b84e"
      }
     },
     "metadata": {}
    },
    {
     "output_type": "stream",
     "name": "stdout",
     "text": [
      "Shuffling and writing examples to data/cifar10/3.0.2.incompleteHCFC52/cifar10-test.tfrecord\n"
     ]
    },
    {
     "output_type": "display_data",
     "data": {
      "text/plain": "HBox(children=(IntProgress(value=0, max=10000), HTML(value='')))",
      "application/vnd.jupyter.widget-view+json": {
       "version_major": 2,
       "version_minor": 0,
       "model_id": "3f8f84490afa444ca0f1eed6d8f98bbc"
      }
     },
     "metadata": {}
    },
    {
     "output_type": "stream",
     "name": "stdout",
     "text": [
      "Dataset cifar10 downloaded and prepared to data\\cifar10\\3.0.2. Subsequent calls will reuse this data.\n"
     ]
    }
   ],
   "source": [
    "# Load dataset, split into test and training data\n",
    "train_ds, test_ds = tfds.load('cifar10', split= ['train', 'test'], data_dir=\"data\\\\\", as_supervised=True)"
   ]
  },
  {
   "cell_type": "code",
   "execution_count": 3,
   "metadata": {},
   "outputs": [],
   "source": [
    "def overview_data():\n",
    "  train_ds_numpy = tfds.as_numpy(train_ds)\n",
    "  test_ds_numpy = tfds.as_numpy(test_ds)\n",
    "\n",
    "  #Look at shapes images and labels of dataset\n",
    "  print(len(train_ds))\n",
    "  print(len(test_ds))\n",
    "\n",
    "  x = 0\n",
    "  for i in train_ds_numpy:\n",
    "    x += 1\n",
    "    print(format(i[0].shape))\n",
    "    print(np.amax(i[0]))\n",
    "    print(np.amin(i[0]))\n",
    "    print(format(i[1]))\n",
    "    if x== 5:\n",
    "      break\n",
    "\n",
    "  x = 0\n",
    "  for i in test_ds_numpy:\n",
    "    x += 1\n",
    "    print(format(i[0].shape))\n",
    "    print(np.amax(i[0]))\n",
    "    print(np.amin(i[0]))\n",
    "    print(format(i[1]))\n",
    "    if x== 5:\n",
    "      break"
   ]
  },
  {
   "cell_type": "code",
   "execution_count": 4,
   "metadata": {},
   "outputs": [],
   "source": [
    "def plot_data():\n",
    "  train_ds_numpy = tfds.as_numpy(train_ds)\n",
    "  test_ds_numpy = tfds.as_numpy(test_ds)\n",
    "\n",
    "  # Plot 5 samples with their corresponding label.\n",
    "  fig, ax = plt.subplots(1,5)\n",
    "  x = 0\n",
    "  for j in train_ds_numpy:\n",
    "    \n",
    "    # Readout an image and the corresponding label.\n",
    "    img = j[0]\n",
    "\n",
    "    label = {\n",
    "        0 : 'airplane',\n",
    "        1 : 'automobile',\n",
    "        2 : 'bird',\n",
    "        3 : 'cat',\n",
    "        4 : 'deer',\n",
    "        5 : 'dog',\n",
    "        6 : 'frog',\n",
    "        7 : 'horse',\n",
    "        8 : 'ship',\n",
    "        9 : 'truck'\n",
    "    }\n",
    "    # if label is still just an integer\n",
    "    if isinstance(j[1], np.int64)  :\n",
    "      lbl = label[j[1]]\n",
    "    # if label is already an one-hot vektor\n",
    "    else:\n",
    "      indice = np.where(j[1] == 1)\n",
    "      indice = indice[0]\n",
    "      lbl = label[int(indice)]\n",
    "\n",
    "    ax[x].imshow(img)\n",
    "    ax[x].set_title(lbl)\n",
    "    ax[x].axis(\"off\")\n",
    "\n",
    "    x += 1\n",
    "\n",
    "    if x==5:\n",
    "      break"
   ]
  },
  {
   "cell_type": "code",
   "execution_count": 5,
   "metadata": {},
   "outputs": [
    {
     "output_type": "stream",
     "name": "stdout",
     "text": [
      "50000\n",
      "10000\n",
      "(32, 32, 3)\n",
      "249\n",
      "0\n",
      "7\n",
      "(32, 32, 3)\n",
      "249\n",
      "5\n",
      "8\n",
      "(32, 32, 3)\n",
      "172\n",
      "54\n",
      "4\n",
      "(32, 32, 3)\n",
      "247\n",
      "10\n",
      "4\n",
      "(32, 32, 3)\n",
      "209\n",
      "8\n",
      "6\n",
      "(32, 32, 3)\n",
      "255\n",
      "5\n",
      "7\n",
      "(32, 32, 3)\n",
      "255\n",
      "0\n",
      "0\n",
      "(32, 32, 3)\n",
      "225\n",
      "6\n",
      "6\n",
      "(32, 32, 3)\n",
      "255\n",
      "58\n",
      "9\n",
      "(32, 32, 3)\n",
      "246\n",
      "0\n",
      "5\n"
     ]
    },
    {
     "output_type": "display_data",
     "data": {
      "text/plain": "<Figure size 432x288 with 5 Axes>",
      "image/svg+xml": "<?xml version=\"1.0\" encoding=\"utf-8\" standalone=\"no\"?>\r\n<!DOCTYPE svg PUBLIC \"-//W3C//DTD SVG 1.1//EN\"\r\n  \"http://www.w3.org/Graphics/SVG/1.1/DTD/svg11.dtd\">\r\n<!-- Created with matplotlib (https://matplotlib.org/) -->\r\n<svg height=\"103.920388pt\" version=\"1.1\" viewBox=\"0 0 368.925 103.920388\" width=\"368.925pt\" xmlns=\"http://www.w3.org/2000/svg\" xmlns:xlink=\"http://www.w3.org/1999/xlink\">\r\n <defs>\r\n  <style type=\"text/css\">\r\n*{stroke-linecap:butt;stroke-linejoin:round;}\r\n  </style>\r\n </defs>\r\n <g id=\"figure_1\">\r\n  <g id=\"patch_1\">\r\n   <path d=\"M -0 103.920388 \r\nL 368.925 103.920388 \r\nL 368.925 0 \r\nL -0 0 \r\nz\r\n\" style=\"fill:none;\"/>\r\n  </g>\r\n  <g id=\"axes_1\">\r\n   <g clip-path=\"url(#p1b526c5767)\">\r\n    <image height=\"58\" id=\"imagee239f4db97\" transform=\"scale(1 -1)translate(0 -58)\" width=\"58\" x=\"26.925\" xlink:href=\"data:image/png;base64,\r\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\" y=\"-22.042263\"/>\r\n   </g>\r\n   <g id=\"text_1\">\r\n    <!-- horse -->\r\n    <defs>\r\n     <path d=\"M 54.890625 33.015625 \r\nL 54.890625 0 \r\nL 45.90625 0 \r\nL 45.90625 32.71875 \r\nQ 45.90625 40.484375 42.875 44.328125 \r\nQ 39.84375 48.1875 33.796875 48.1875 \r\nQ 26.515625 48.1875 22.3125 43.546875 \r\nQ 18.109375 38.921875 18.109375 30.90625 \r\nL 18.109375 0 \r\nL 9.078125 0 \r\nL 9.078125 75.984375 \r\nL 18.109375 75.984375 \r\nL 18.109375 46.1875 \r\nQ 21.34375 51.125 25.703125 53.5625 \r\nQ 30.078125 56 35.796875 56 \r\nQ 45.21875 56 50.046875 50.171875 \r\nQ 54.890625 44.34375 54.890625 33.015625 \r\nz\r\n\" id=\"DejaVuSans-104\"/>\r\n     <path d=\"M 30.609375 48.390625 \r\nQ 23.390625 48.390625 19.1875 42.75 \r\nQ 14.984375 37.109375 14.984375 27.296875 \r\nQ 14.984375 17.484375 19.15625 11.84375 \r\nQ 23.34375 6.203125 30.609375 6.203125 \r\nQ 37.796875 6.203125 41.984375 11.859375 \r\nQ 46.1875 17.53125 46.1875 27.296875 \r\nQ 46.1875 37.015625 41.984375 42.703125 \r\nQ 37.796875 48.390625 30.609375 48.390625 \r\nz\r\nM 30.609375 56 \r\nQ 42.328125 56 49.015625 48.375 \r\nQ 55.71875 40.765625 55.71875 27.296875 \r\nQ 55.71875 13.875 49.015625 6.21875 \r\nQ 42.328125 -1.421875 30.609375 -1.421875 \r\nQ 18.84375 -1.421875 12.171875 6.21875 \r\nQ 5.515625 13.875 5.515625 27.296875 \r\nQ 5.515625 40.765625 12.171875 48.375 \r\nQ 18.84375 56 30.609375 56 \r\nz\r\n\" id=\"DejaVuSans-111\"/>\r\n     <path d=\"M 41.109375 46.296875 \r\nQ 39.59375 47.171875 37.8125 47.578125 \r\nQ 36.03125 48 33.890625 48 \r\nQ 26.265625 48 22.1875 43.046875 \r\nQ 18.109375 38.09375 18.109375 28.8125 \r\nL 18.109375 0 \r\nL 9.078125 0 \r\nL 9.078125 54.6875 \r\nL 18.109375 54.6875 \r\nL 18.109375 46.1875 \r\nQ 20.953125 51.171875 25.484375 53.578125 \r\nQ 30.03125 56 36.53125 56 \r\nQ 37.453125 56 38.578125 55.875 \r\nQ 39.703125 55.765625 41.0625 55.515625 \r\nz\r\n\" id=\"DejaVuSans-114\"/>\r\n     <path d=\"M 44.28125 53.078125 \r\nL 44.28125 44.578125 \r\nQ 40.484375 46.53125 36.375 47.5 \r\nQ 32.28125 48.484375 27.875 48.484375 \r\nQ 21.1875 48.484375 17.84375 46.4375 \r\nQ 14.5 44.390625 14.5 40.28125 \r\nQ 14.5 37.15625 16.890625 35.375 \r\nQ 19.28125 33.59375 26.515625 31.984375 \r\nL 29.59375 31.296875 \r\nQ 39.15625 29.25 43.1875 25.515625 \r\nQ 47.21875 21.78125 47.21875 15.09375 \r\nQ 47.21875 7.46875 41.1875 3.015625 \r\nQ 35.15625 -1.421875 24.609375 -1.421875 \r\nQ 20.21875 -1.421875 15.453125 -0.5625 \r\nQ 10.6875 0.296875 5.421875 2 \r\nL 5.421875 11.28125 \r\nQ 10.40625 8.6875 15.234375 7.390625 \r\nQ 20.0625 6.109375 24.8125 6.109375 \r\nQ 31.15625 6.109375 34.5625 8.28125 \r\nQ 37.984375 10.453125 37.984375 14.40625 \r\nQ 37.984375 18.0625 35.515625 20.015625 \r\nQ 33.0625 21.96875 24.703125 23.78125 \r\nL 21.578125 24.515625 \r\nQ 13.234375 26.265625 9.515625 29.90625 \r\nQ 5.8125 33.546875 5.8125 39.890625 \r\nQ 5.8125 47.609375 11.28125 51.796875 \r\nQ 16.75 56 26.8125 56 \r\nQ 31.78125 56 36.171875 55.265625 \r\nQ 40.578125 54.546875 44.28125 53.078125 \r\nz\r\n\" id=\"DejaVuSans-115\"/>\r\n     <path d=\"M 56.203125 29.59375 \r\nL 56.203125 25.203125 \r\nL 14.890625 25.203125 \r\nQ 15.484375 15.921875 20.484375 11.0625 \r\nQ 25.484375 6.203125 34.421875 6.203125 \r\nQ 39.59375 6.203125 44.453125 7.46875 \r\nQ 49.3125 8.734375 54.109375 11.28125 \r\nL 54.109375 2.78125 \r\nQ 49.265625 0.734375 44.1875 -0.34375 \r\nQ 39.109375 -1.421875 33.890625 -1.421875 \r\nQ 20.796875 -1.421875 13.15625 6.1875 \r\nQ 5.515625 13.8125 5.515625 26.8125 \r\nQ 5.515625 40.234375 12.765625 48.109375 \r\nQ 20.015625 56 32.328125 56 \r\nQ 43.359375 56 49.78125 48.890625 \r\nQ 56.203125 41.796875 56.203125 29.59375 \r\nz\r\nM 47.21875 32.234375 \r\nQ 47.125 39.59375 43.09375 43.984375 \r\nQ 39.0625 48.390625 32.421875 48.390625 \r\nQ 24.90625 48.390625 20.390625 44.140625 \r\nQ 15.875 39.890625 15.1875 32.171875 \r\nz\r\n\" id=\"DejaVuSans-101\"/>\r\n    </defs>\r\n    <g transform=\"translate(39.029256 16.318125)scale(0.12 -0.12)\">\r\n     <use xlink:href=\"#DejaVuSans-104\"/>\r\n     <use x=\"63.378906\" xlink:href=\"#DejaVuSans-111\"/>\r\n     <use x=\"124.560547\" xlink:href=\"#DejaVuSans-114\"/>\r\n     <use x=\"165.673828\" xlink:href=\"#DejaVuSans-115\"/>\r\n     <use x=\"217.773438\" xlink:href=\"#DejaVuSans-101\"/>\r\n    </g>\r\n   </g>\r\n  </g>\r\n  <g id=\"axes_2\">\r\n   <g clip-path=\"url(#p97ad4beb07)\">\r\n    <image height=\"58\" id=\"image03964ed74a\" transform=\"scale(1 -1)translate(0 -58)\" width=\"58\" x=\"96.193966\" xlink:href=\"data:image/png;base64,\r\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\" y=\"-22.042263\"/>\r\n   </g>\r\n   <g id=\"text_2\">\r\n    <!-- ship -->\r\n    <defs>\r\n     <path d=\"M 9.421875 54.6875 \r\nL 18.40625 54.6875 \r\nL 18.40625 0 \r\nL 9.421875 0 \r\nz\r\nM 9.421875 75.984375 \r\nL 18.40625 75.984375 \r\nL 18.40625 64.59375 \r\nL 9.421875 64.59375 \r\nz\r\n\" id=\"DejaVuSans-105\"/>\r\n     <path d=\"M 18.109375 8.203125 \r\nL 18.109375 -20.796875 \r\nL 9.078125 -20.796875 \r\nL 9.078125 54.6875 \r\nL 18.109375 54.6875 \r\nL 18.109375 46.390625 \r\nQ 20.953125 51.265625 25.265625 53.625 \r\nQ 29.59375 56 35.59375 56 \r\nQ 45.5625 56 51.78125 48.09375 \r\nQ 58.015625 40.1875 58.015625 27.296875 \r\nQ 58.015625 14.40625 51.78125 6.484375 \r\nQ 45.5625 -1.421875 35.59375 -1.421875 \r\nQ 29.59375 -1.421875 25.265625 0.953125 \r\nQ 20.953125 3.328125 18.109375 8.203125 \r\nz\r\nM 48.6875 27.296875 \r\nQ 48.6875 37.203125 44.609375 42.84375 \r\nQ 40.53125 48.484375 33.40625 48.484375 \r\nQ 26.265625 48.484375 22.1875 42.84375 \r\nQ 18.109375 37.203125 18.109375 27.296875 \r\nQ 18.109375 17.390625 22.1875 11.75 \r\nQ 26.265625 6.109375 33.40625 6.109375 \r\nQ 40.53125 6.109375 44.609375 11.75 \r\nQ 48.6875 17.390625 48.6875 27.296875 \r\nz\r\n\" id=\"DejaVuSans-112\"/>\r\n    </defs>\r\n    <g transform=\"translate(112.651972 16.318125)scale(0.12 -0.12)\">\r\n     <use xlink:href=\"#DejaVuSans-115\"/>\r\n     <use x=\"52.099609\" xlink:href=\"#DejaVuSans-104\"/>\r\n     <use x=\"115.478516\" xlink:href=\"#DejaVuSans-105\"/>\r\n     <use x=\"143.261719\" xlink:href=\"#DejaVuSans-112\"/>\r\n    </g>\r\n   </g>\r\n  </g>\r\n  <g id=\"axes_3\">\r\n   <g clip-path=\"url(#p71c4df156c)\">\r\n    <image height=\"58\" id=\"imageb6ef16165c\" transform=\"scale(1 -1)translate(0 -58)\" width=\"58\" x=\"165.462931\" xlink:href=\"data:image/png;base64,\r\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\" y=\"-22.042263\"/>\r\n   </g>\r\n   <g id=\"text_3\">\r\n    <!-- deer -->\r\n    <defs>\r\n     <path d=\"M 45.40625 46.390625 \r\nL 45.40625 75.984375 \r\nL 54.390625 75.984375 \r\nL 54.390625 0 \r\nL 45.40625 0 \r\nL 45.40625 8.203125 \r\nQ 42.578125 3.328125 38.25 0.953125 \r\nQ 33.9375 -1.421875 27.875 -1.421875 \r\nQ 17.96875 -1.421875 11.734375 6.484375 \r\nQ 5.515625 14.40625 5.515625 27.296875 \r\nQ 5.515625 40.1875 11.734375 48.09375 \r\nQ 17.96875 56 27.875 56 \r\nQ 33.9375 56 38.25 53.625 \r\nQ 42.578125 51.265625 45.40625 46.390625 \r\nz\r\nM 14.796875 27.296875 \r\nQ 14.796875 17.390625 18.875 11.75 \r\nQ 22.953125 6.109375 30.078125 6.109375 \r\nQ 37.203125 6.109375 41.296875 11.75 \r\nQ 45.40625 17.390625 45.40625 27.296875 \r\nQ 45.40625 37.203125 41.296875 42.84375 \r\nQ 37.203125 48.484375 30.078125 48.484375 \r\nQ 22.953125 48.484375 18.875 42.84375 \r\nQ 14.796875 37.203125 14.796875 27.296875 \r\nz\r\n\" id=\"DejaVuSans-100\"/>\r\n    </defs>\r\n    <g transform=\"translate(180.665625 16.318125)scale(0.12 -0.12)\">\r\n     <use xlink:href=\"#DejaVuSans-100\"/>\r\n     <use x=\"63.476562\" xlink:href=\"#DejaVuSans-101\"/>\r\n     <use x=\"125\" xlink:href=\"#DejaVuSans-101\"/>\r\n     <use x=\"186.523438\" xlink:href=\"#DejaVuSans-114\"/>\r\n    </g>\r\n   </g>\r\n  </g>\r\n  <g id=\"axes_4\">\r\n   <g clip-path=\"url(#p5a7b4e2916)\">\r\n    <image height=\"58\" id=\"imagecc16269f71\" transform=\"scale(1 -1)translate(0 -58)\" width=\"58\" x=\"234.731897\" xlink:href=\"data:image/png;base64,\r\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\" y=\"-22.042263\"/>\r\n   </g>\r\n   <g id=\"text_4\">\r\n    <!-- deer -->\r\n    <g transform=\"translate(249.934591 16.318125)scale(0.12 -0.12)\">\r\n     <use xlink:href=\"#DejaVuSans-100\"/>\r\n     <use x=\"63.476562\" xlink:href=\"#DejaVuSans-101\"/>\r\n     <use x=\"125\" xlink:href=\"#DejaVuSans-101\"/>\r\n     <use x=\"186.523438\" xlink:href=\"#DejaVuSans-114\"/>\r\n    </g>\r\n   </g>\r\n  </g>\r\n  <g id=\"axes_5\">\r\n   <g clip-path=\"url(#pfda07e3fa0)\">\r\n    <image height=\"58\" id=\"image6cb7963b63\" transform=\"scale(1 -1)translate(0 -58)\" width=\"58\" x=\"304.000862\" xlink:href=\"data:image/png;base64,\r\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\" y=\"-22.042263\"/>\r\n   </g>\r\n   <g id=\"text_5\">\r\n    <!-- frog -->\r\n    <defs>\r\n     <path d=\"M 37.109375 75.984375 \r\nL 37.109375 68.5 \r\nL 28.515625 68.5 \r\nQ 23.6875 68.5 21.796875 66.546875 \r\nQ 19.921875 64.59375 19.921875 59.515625 \r\nL 19.921875 54.6875 \r\nL 34.71875 54.6875 \r\nL 34.71875 47.703125 \r\nL 19.921875 47.703125 \r\nL 19.921875 0 \r\nL 10.890625 0 \r\nL 10.890625 47.703125 \r\nL 2.296875 47.703125 \r\nL 2.296875 54.6875 \r\nL 10.890625 54.6875 \r\nL 10.890625 58.5 \r\nQ 10.890625 67.625 15.140625 71.796875 \r\nQ 19.390625 75.984375 28.609375 75.984375 \r\nz\r\n\" id=\"DejaVuSans-102\"/>\r\n     <path d=\"M 45.40625 27.984375 \r\nQ 45.40625 37.75 41.375 43.109375 \r\nQ 37.359375 48.484375 30.078125 48.484375 \r\nQ 22.859375 48.484375 18.828125 43.109375 \r\nQ 14.796875 37.75 14.796875 27.984375 \r\nQ 14.796875 18.265625 18.828125 12.890625 \r\nQ 22.859375 7.515625 30.078125 7.515625 \r\nQ 37.359375 7.515625 41.375 12.890625 \r\nQ 45.40625 18.265625 45.40625 27.984375 \r\nz\r\nM 54.390625 6.78125 \r\nQ 54.390625 -7.171875 48.1875 -13.984375 \r\nQ 42 -20.796875 29.203125 -20.796875 \r\nQ 24.46875 -20.796875 20.265625 -20.09375 \r\nQ 16.0625 -19.390625 12.109375 -17.921875 \r\nL 12.109375 -9.1875 \r\nQ 16.0625 -11.328125 19.921875 -12.34375 \r\nQ 23.78125 -13.375 27.78125 -13.375 \r\nQ 36.625 -13.375 41.015625 -8.765625 \r\nQ 45.40625 -4.15625 45.40625 5.171875 \r\nL 45.40625 9.625 \r\nQ 42.625 4.78125 38.28125 2.390625 \r\nQ 33.9375 0 27.875 0 \r\nQ 17.828125 0 11.671875 7.65625 \r\nQ 5.515625 15.328125 5.515625 27.984375 \r\nQ 5.515625 40.671875 11.671875 48.328125 \r\nQ 17.828125 56 27.875 56 \r\nQ 33.9375 56 38.28125 53.609375 \r\nQ 42.625 51.21875 45.40625 46.390625 \r\nL 45.40625 54.6875 \r\nL 54.390625 54.6875 \r\nz\r\n\" id=\"DejaVuSans-103\"/>\r\n    </defs>\r\n    <g transform=\"translate(320.805744 16.318125)scale(0.12 -0.12)\">\r\n     <use xlink:href=\"#DejaVuSans-102\"/>\r\n     <use x=\"35.205078\" xlink:href=\"#DejaVuSans-114\"/>\r\n     <use x=\"76.287109\" xlink:href=\"#DejaVuSans-111\"/>\r\n     <use x=\"137.46875\" xlink:href=\"#DejaVuSans-103\"/>\r\n    </g>\r\n   </g>\r\n  </g>\r\n </g>\r\n <defs>\r\n  <clipPath id=\"p1b526c5767\">\r\n   <rect height=\"57.724138\" width=\"57.724138\" x=\"26.925\" y=\"22.318125\"/>\r\n  </clipPath>\r\n  <clipPath id=\"p97ad4beb07\">\r\n   <rect height=\"57.724138\" width=\"57.724138\" x=\"96.193966\" y=\"22.318125\"/>\r\n  </clipPath>\r\n  <clipPath id=\"p71c4df156c\">\r\n   <rect height=\"57.724138\" width=\"57.724138\" x=\"165.462931\" y=\"22.318125\"/>\r\n  </clipPath>\r\n  <clipPath id=\"p5a7b4e2916\">\r\n   <rect height=\"57.724138\" width=\"57.724138\" x=\"234.731897\" y=\"22.318125\"/>\r\n  </clipPath>\r\n  <clipPath id=\"pfda07e3fa0\">\r\n   <rect height=\"57.724138\" width=\"57.724138\" x=\"304.000862\" y=\"22.318125\"/>\r\n  </clipPath>\r\n </defs>\r\n</svg>\r\n",
      "image/png": "[encoded data removed]"
     },
     "metadata": {
      "needs_background": "light"
     }
    }
   ],
   "source": [
    "overview_data()\n",
    "plot_data()"
   ]
  },
  {
   "source": [
    "Resnet"
   ],
   "cell_type": "markdown",
   "metadata": {}
  },
  {
   "cell_type": "code",
   "execution_count": null,
   "metadata": {},
   "outputs": [],
   "source": [
    "class ResidualBlock():\n",
    "\n",
    "    def __init__(self):\n",
    "        super(Model, self).__init__()\n",
    "        self.conv_1 = tf.keras.layers.Conv2D(filters = 90,\n",
    "                                         kernel_size = 3,\n",
    "                                         activation = None,\n",
    "                                         padding = 'same',\n",
    "                                         kernel_initializer = tf.keras.initializers.glorot_normal,   # (1)\n",
    "                                         bias_initializer = 'zeros',                                 # (2)\n",
    "                                         kernel_regularizer = tf.keras.regularizers.L2(0.01),        # (3)\n",
    "                                         input_shape = (32, 32, 3))\n",
    "        self.batch_norm_1 = tf.keras.layers.BatchNormalization()                                         # (4)\n",
    "        self.activ_1 = tf.keras.activations.relu\n",
    "\n",
    "        self.conv_2 = tf.keras.layers.Conv2D(filters = 90,\n",
    "                                         kernel_size = 3,\n",
    "                                         activation = None,\n",
    "                                         padding = 'same',\n",
    "                                         kernel_initializer = tf.keras.initializers.glorot_normal,   # (1)\n",
    "                                         bias_initializer = 'zeros',                                 # (2)\n",
    "                                         kernel_regularizer = tf.keras.regularizers.L2(0.01),        # (3)\n",
    "                                         input_shape = (32, 32, 3))\n",
    "        self.batch_norm_2 = tf.keras.layers.BatchNormalization()                                         # (4)\n",
    "        self.activ_2 = tf.keras.activations.relu\n"
   ]
  },
  {
   "source": [
    "DenseNet"
   ],
   "cell_type": "markdown",
   "metadata": {}
  }
 ]
}