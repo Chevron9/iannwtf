{
  "nbformat": 4,
  "nbformat_minor": 0,
  "metadata": {
    "colab": {
      "name": "Exercise07.ipynb",
      "provenance": [],
      "collapsed_sections": [],
      "authorship_tag": "ABX9TyMaEmYBRTZXrHm/R7tSpjLs",
      "include_colab_link": true
    },
    "kernelspec": {
      "name": "python3",
      "display_name": "Python 3"
    }
  },
  "cells": [
    {
      "cell_type": "markdown",
      "metadata": {
        "id": "view-in-github",
        "colab_type": "text"
      },
      "source": [
        "<a href=\"https://colab.research.google.com/github/Chevron9/iannwtf/blob/Roho7/7/Exercise07.ipynb\" target=\"_parent\"><img src=\"https://colab.research.google.com/assets/colab-badge.svg\" alt=\"Open In Colab\"/></a>"
      ]
    },
    {
      "cell_type": "code",
      "metadata": {
        "id": "qkOC0VEEPR7K"
      },
      "source": [
        "import numpy as np\r\n",
        "%tensorflow_version 2.x\r\n",
        "import tensorflow as tf\r\n",
        "import matplotlib.pyplot as plt\r\n",
        "import tensorflow_datasets as tfds"
      ],
      "execution_count": null,
      "outputs": []
    },
    {
      "cell_type": "code",
      "metadata": {
        "colab": {
          "base_uri": "https://localhost:8080/"
        },
        "id": "UEc69I3HPhxa",
        "outputId": "8d825603-f648-42c1-81fd-9489adc2a01b"
      },
      "source": [
        "#loads the dataset and splits into test and training data\r\n",
        "train_dataset = tfds.load('fashion_mnist', split=\"train[:100%]\", as_supervised=True)\r\n",
        "test_dataset = tfds.load('fashion_mnist', split=\"test[:100%]\", as_supervised=True)\r\n",
        "\r\n",
        "#normalize the images and make the labels a one hot vector\r\n",
        "train_dataset = train_dataset.map(lambda x,y:((tf.image.per_image_standardization(\r\n",
        "    tf.cast(x, tf.float32))), (tf.reshape(tf.one_hot(y, 10), (-1,)))))\r\n",
        "test_dataset = test_dataset.map(lambda x,y:((tf.image.per_image_standardization(\r\n",
        "     tf.cast(x, tf.float32))), (tf.reshape(tf.one_hot(y, 10), (-1,)))))\r\n",
        "\r\n",
        "\r\n",
        "#creats numpy array to print \r\n",
        "train_numpy= tfds.as_numpy(train_dataset)\r\n",
        "test_numpy = tfds.as_numpy(test_dataset)\r\n",
        "print(len(train_dataset))\r\n",
        "print(len(test_dataset))\r\n",
        "\r\n",
        "#looks if the format is still correct\r\n",
        "for i in train_numpy:\r\n",
        "  print((i[0]).shape)\r\n",
        "  break\r\n",
        "for i in test_numpy:\r\n",
        "  print((i[0]).shape)\r\n",
        "  break"
      ],
      "execution_count": null,
      "outputs": [
        {
          "output_type": "stream",
          "text": [
            "60000\n",
            "10000\n",
            "(28, 28, 1)\n",
            "(28, 28, 1)\n"
          ],
          "name": "stdout"
        }
      ]
    },
    {
      "cell_type": "code",
      "metadata": {
        "id": "ellcH82bP_UE"
      },
      "source": [
        "#shuffel, prefetch and batch the datasets\r\n",
        "train_dataset = train_dataset.batch(64).shuffle(buffer_size=64).prefetch(128)\r\n",
        "test_dataset = test_dataset.batch(64).shuffle(buffer_size=64).prefetch(128)"
      ],
      "execution_count": null,
      "outputs": []
    },
    {
      "cell_type": "code",
      "metadata": {
        "id": "wAq1jkJdXRyH"
      },
      "source": [
        "#Encoder takes the input and makes an embedding\r\n",
        "from tensorflow.keras import Model\r\n",
        "from tensorflow.keras.layers import Layer\r\n",
        "class Encoder(Layer):\r\n",
        "  def __init__(self, input_shape):\r\n",
        "    super(Encoder, self).__init__()\r\n",
        "    self.relu = tf.keras.activations.relu\r\n",
        "\r\n",
        "    self.conv_layer_1= tf.keras.layers.Conv2D(filters= 64, kernel_size= 2,\r\n",
        "                                                    strides=(2, 2), padding='valid',\r\n",
        "                                                    input_shape = input_shape\r\n",
        "                                                     )\r\n",
        "        \r\n",
        "    self.batch_normalization_layer_1 = tf.keras.layers.BatchNormalization()\r\n",
        "\r\n",
        "\r\n",
        "\r\n",
        "    self.conv_layer_2= tf.keras.layers.Conv2D(filters = 32, kernel_size= 3,\r\n",
        "                                                    strides=(2, 2), padding='valid'\r\n",
        "                                                    )\r\n",
        "    \r\n",
        "    self.batch_normalization_layer_2 = tf.keras.layers.BatchNormalization()\r\n",
        "\r\n",
        "\r\n",
        "  \r\n",
        "    self.global_pooling_layer = tf.keras.layers.GlobalAveragePooling2D()\r\n",
        "    self.output_layer = tf.keras.layers.Dense(units=10, activation=tf.keras.activations.sigmoid)\r\n",
        "\r\n",
        "  def call(self, x, training = True):\r\n",
        "\r\n",
        "    x = self.conv_layer_1(x)\r\n",
        "    x = self.batch_normalization_layer_1(x, training)\r\n",
        "    x = self.relu(x)\r\n",
        "\r\n",
        "    x = self.conv_layer_2(x)\r\n",
        "    x = self.batch_normalization_layer_2(x, training)\r\n",
        "    x = self.relu(x)\r\n",
        "\r\n",
        "    x = self.global_pooling_layer(x)\r\n",
        "    x = self.output_layer(x)\r\n",
        "    return x\r\n"
      ],
      "execution_count": null,
      "outputs": []
    },
    {
      "cell_type": "code",
      "metadata": {
        "id": "SFlg1nQIaOdh"
      },
      "source": [
        "# takes embedding and generates original input\r\n",
        "class Decoder(Layer):\r\n",
        " def __init__(self, input_shape):\r\n",
        "\r\n",
        "  \r\n",
        "  super(Decoder, self).__init__()\r\n",
        "  self.dense = tf.keras.layers.Dense(units=10, activation=tf.keras.activations.softmax)\r\n",
        "  self.relu = tf.keras.activations.relu\r\n",
        "\r\n",
        "  self.conv_layer_1= tf.keras.layers.Conv2DTranspose(filters= 32, kernel_size= 2,\r\n",
        "                                                  strides=(2, 2), padding='valid',\r\n",
        "                                                  input_shape = input_shape\r\n",
        "                                                    )\r\n",
        "      \r\n",
        "  self.batch_normalization_layer_1 = tf.keras.layers.BatchNormalization()\r\n",
        "\r\n",
        "  self.conv_layer_2= tf.keras.layers.Conv2DTranspose(filters = 64, kernel_size= 2,\r\n",
        "                                                  strides=(2, 2), padding='valid'\r\n",
        "                                                  )\r\n",
        "  \r\n",
        "  self.batch_normalization_layer_2 = tf.keras.layers.BatchNormalization()\r\n",
        "\r\n",
        "\r\n",
        "  \r\n",
        "\r\n",
        "\r\n",
        "\r\n",
        "  self.output_layer = tf.keras.layers.Conv2D(filters= 1, kernel_size= 3,\r\n",
        "                                                  strides=(1, 1), padding='same', activation = tf.keras.activations.sigmoid\r\n",
        "                                                  )\r\n",
        "\r\n",
        "  def call(self, x, training = True):\r\n",
        "\r\n",
        "    x = self.conv_layer_1(x)\r\n",
        "    x = self.batch_normalization_layer_1(x, training)\r\n",
        "    x = self.relu(x)\r\n",
        "\r\n",
        "    x = self.conv_layer_2(x)\r\n",
        "    x = self.batch_normalization_layer_2(x, training)\r\n",
        "    x = self.relu(x)\r\n",
        "\r\n",
        "    x = self.output_layer(x)\r\n",
        "\r\n",
        "    return x"
      ],
      "execution_count": null,
      "outputs": []
    },
    {
      "cell_type": "code",
      "metadata": {
        "id": "pQZh2n-lb0gE"
      },
      "source": [
        "#combines Encoder and Decoder to an Autoencoder\r\n",
        "class Autoencoder(Model):\r\n",
        "  def __init__(self):\r\n",
        "    super(Autoencoder, self).__init__()\r\n",
        "\r\n",
        "    self.encoder = Encoder((64,28,28,1))\r\n",
        "    self.decoder = Decoder((64,28,28,10))\r\n",
        "  \r\n",
        "  def call(self, x, training = True):\r\n",
        "    x = self.encoder(x, training)\r\n",
        "    x = self.decoder(x, training)\r\n",
        "    return x\r\n"
      ],
      "execution_count": null,
      "outputs": []
    },
    {
      "cell_type": "code",
      "metadata": {
        "id": "OH_Lom1xrbzP"
      },
      "source": [
        "def train_step(model, input, target, loss_function, optimizer):\r\n",
        "  # loss_object and optimizer_object are instances of respective tensorflow classes\r\n",
        "  with tf.GradientTape() as tape:\r\n",
        "    prediction = model(input)\r\n",
        "    loss = loss_function(target, prediction)\r\n",
        "    gradients = tape.gradient(loss, model.trainable_variables)\r\n",
        "  optimizer.apply_gradients(zip(gradients, model.trainable_variables))\r\n",
        "  return loss\r\n",
        "\r\n",
        "def test(model, test_data, loss_function):\r\n",
        "  # test over complete test data\r\n",
        "\r\n",
        "  test_accuracy_aggregator = []\r\n",
        "  test_loss_aggregator = []\r\n",
        "\r\n",
        "  for (input, target) in test_data:\r\n",
        "    prediction = model(input, training = False)\r\n",
        "    #loss between input and output of the autoencoder\r\n",
        "    sample_test_loss = loss_function(input, prediction)\r\n",
        "    sample_test_accuracy =  np.argmax(input, axis=1) == np.argmax(prediction, axis=1)\r\n",
        "    sample_test_accuracy = np.mean(sample_test_accuracy)\r\n",
        "\r\n",
        "    test_loss_aggregator.append(sample_test_loss.numpy())\r\n",
        "    test_accuracy_aggregator.append(np.mean(sample_test_accuracy))\r\n",
        "\r\n",
        "  test_loss = np.mean(test_loss_aggregator)\r\n",
        "  test_accuracy = np.mean(test_accuracy_aggregator)\r\n",
        "\r\n",
        "  return test_loss, test_accuracy\r\n",
        "  "
      ],
      "execution_count": null,
      "outputs": []
    },
    {
      "cell_type": "code",
      "metadata": {
        "colab": {
          "base_uri": "https://localhost:8080/",
          "height": 714
        },
        "id": "Mq1EgC0ZrfJA",
        "outputId": "a0b80ebc-e3d6-472c-fe00-be68af25e671"
      },
      "source": [
        "tf.keras.backend.clear_session()\r\n",
        "\r\n",
        "### Hyperparameters\r\n",
        "num_epochs = 30\r\n",
        "learning_rate = 0.00006\r\n",
        "running_average_factor = 0.95\r\n",
        "\r\n",
        "# Initialize the model.\r\n",
        "model = Autoencoder()\r\n",
        "# Initialize the loss: categorical cross entropy. Check out 'tf.keras.losses'.\r\n",
        "cross_entropy_loss = tf.keras.losses.CategoricalCrossentropy()\r\n",
        "# Initialize the optimizer: Adam with default parameters. Check out 'tf.keras.optimizers'\r\n",
        "optimizer = tf.keras.optimizers.Adam(learning_rate)\r\n",
        "\r\n",
        "# Initialize lists for later visualization.\r\n",
        "train_losses = []\r\n",
        "\r\n",
        "test_losses = []\r\n",
        "test_accuracies = []\r\n",
        "\r\n",
        "#testing once before we begin\r\n",
        "test_loss, test_accuracy = test(model, test_dataset, cross_entropy_loss)\r\n",
        "test_losses.append(test_loss)\r\n",
        "test_accuracies.append(test_accuracy)\r\n",
        "\r\n",
        "#check how model performs on train data once before we begin\r\n",
        "train_loss, _ = test(model, train_dataset, cross_entropy_loss)\r\n",
        "train_losses.append(train_loss)\r\n",
        "\r\n",
        "#We train for num_epochs epochs.\r\n",
        "for epoch in range(num_epochs):\r\n",
        "    print('Epoch: __ ' + str(epoch))\r\n",
        "\r\n",
        "    #training (and checking in with training)\r\n",
        "    running_average = 0\r\n",
        "    for (input,target) in train_dataset:\r\n",
        "        # loss between output and input\r\n",
        "        train_loss = train_step(model, input, input, cross_entropy_loss, optimizer)\r\n",
        "        running_average = running_average_factor * running_average  + (1 - running_average_factor) * train_loss\r\n",
        "    train_losses.append(running_average)\r\n",
        "\r\n",
        "    #testing\r\n",
        "    test_loss, test_accuracy = test(model, test_dataset, cross_entropy_loss)\r\n",
        "    test_losses.append(test_loss)\r\n",
        "    test_accuracies.append(test_accuracy)\r\n",
        "    "
      ],
      "execution_count": null,
      "outputs": [
        {
          "output_type": "error",
          "ename": "TypeError",
          "evalue": "ignored",
          "traceback": [
            "\u001b[0;31m---------------------------------------------------------------------------\u001b[0m",
            "\u001b[0;31mTypeError\u001b[0m                                 Traceback (most recent call last)",
            "\u001b[0;32m<ipython-input-47-e83bfe17e738>\u001b[0m in \u001b[0;36m<module>\u001b[0;34m()\u001b[0m\n\u001b[1;32m     20\u001b[0m \u001b[0;34m\u001b[0m\u001b[0m\n\u001b[1;32m     21\u001b[0m \u001b[0;31m#testing once before we begin\u001b[0m\u001b[0;34m\u001b[0m\u001b[0;34m\u001b[0m\u001b[0;34m\u001b[0m\u001b[0m\n\u001b[0;32m---> 22\u001b[0;31m \u001b[0mtest_loss\u001b[0m\u001b[0;34m,\u001b[0m \u001b[0mtest_accuracy\u001b[0m \u001b[0;34m=\u001b[0m \u001b[0mtest\u001b[0m\u001b[0;34m(\u001b[0m\u001b[0mmodel\u001b[0m\u001b[0;34m,\u001b[0m \u001b[0mtest_dataset\u001b[0m\u001b[0;34m,\u001b[0m \u001b[0mcross_entropy_loss\u001b[0m\u001b[0;34m)\u001b[0m\u001b[0;34m\u001b[0m\u001b[0;34m\u001b[0m\u001b[0m\n\u001b[0m\u001b[1;32m     23\u001b[0m \u001b[0mtest_losses\u001b[0m\u001b[0;34m.\u001b[0m\u001b[0mappend\u001b[0m\u001b[0;34m(\u001b[0m\u001b[0mtest_loss\u001b[0m\u001b[0;34m)\u001b[0m\u001b[0;34m\u001b[0m\u001b[0;34m\u001b[0m\u001b[0m\n\u001b[1;32m     24\u001b[0m \u001b[0mtest_accuracies\u001b[0m\u001b[0;34m.\u001b[0m\u001b[0mappend\u001b[0m\u001b[0;34m(\u001b[0m\u001b[0mtest_accuracy\u001b[0m\u001b[0;34m)\u001b[0m\u001b[0;34m\u001b[0m\u001b[0;34m\u001b[0m\u001b[0m\n",
            "\u001b[0;32m<ipython-input-45-0e6dec02f0e1>\u001b[0m in \u001b[0;36mtest\u001b[0;34m(model, test_data, loss_function)\u001b[0m\n\u001b[1;32m     15\u001b[0m \u001b[0;34m\u001b[0m\u001b[0m\n\u001b[1;32m     16\u001b[0m   \u001b[0;32mfor\u001b[0m \u001b[0;34m(\u001b[0m\u001b[0minput\u001b[0m\u001b[0;34m,\u001b[0m \u001b[0mtarget\u001b[0m\u001b[0;34m)\u001b[0m \u001b[0;32min\u001b[0m \u001b[0mtest_data\u001b[0m\u001b[0;34m:\u001b[0m\u001b[0;34m\u001b[0m\u001b[0;34m\u001b[0m\u001b[0m\n\u001b[0;32m---> 17\u001b[0;31m     \u001b[0mprediction\u001b[0m \u001b[0;34m=\u001b[0m \u001b[0mmodel\u001b[0m\u001b[0;34m(\u001b[0m\u001b[0minput\u001b[0m\u001b[0;34m,\u001b[0m \u001b[0mtraining\u001b[0m \u001b[0;34m=\u001b[0m \u001b[0;32mFalse\u001b[0m\u001b[0;34m)\u001b[0m\u001b[0;34m\u001b[0m\u001b[0;34m\u001b[0m\u001b[0m\n\u001b[0m\u001b[1;32m     18\u001b[0m     \u001b[0msample_test_loss\u001b[0m \u001b[0;34m=\u001b[0m \u001b[0mloss_function\u001b[0m\u001b[0;34m(\u001b[0m\u001b[0minput\u001b[0m\u001b[0;34m,\u001b[0m \u001b[0mprediction\u001b[0m\u001b[0;34m)\u001b[0m\u001b[0;34m\u001b[0m\u001b[0;34m\u001b[0m\u001b[0m\n\u001b[1;32m     19\u001b[0m     \u001b[0msample_test_accuracy\u001b[0m \u001b[0;34m=\u001b[0m  \u001b[0mnp\u001b[0m\u001b[0;34m.\u001b[0m\u001b[0margmax\u001b[0m\u001b[0;34m(\u001b[0m\u001b[0mtarget\u001b[0m\u001b[0;34m,\u001b[0m \u001b[0maxis\u001b[0m\u001b[0;34m=\u001b[0m\u001b[0;36m1\u001b[0m\u001b[0;34m)\u001b[0m \u001b[0;34m==\u001b[0m \u001b[0mnp\u001b[0m\u001b[0;34m.\u001b[0m\u001b[0margmax\u001b[0m\u001b[0;34m(\u001b[0m\u001b[0mprediction\u001b[0m\u001b[0;34m,\u001b[0m \u001b[0maxis\u001b[0m\u001b[0;34m=\u001b[0m\u001b[0;36m1\u001b[0m\u001b[0;34m)\u001b[0m\u001b[0;34m\u001b[0m\u001b[0;34m\u001b[0m\u001b[0m\n",
            "\u001b[0;32m/usr/local/lib/python3.6/dist-packages/tensorflow/python/keras/engine/base_layer.py\u001b[0m in \u001b[0;36m__call__\u001b[0;34m(self, *args, **kwargs)\u001b[0m\n\u001b[1;32m    983\u001b[0m \u001b[0;34m\u001b[0m\u001b[0m\n\u001b[1;32m    984\u001b[0m         \u001b[0;32mwith\u001b[0m \u001b[0mops\u001b[0m\u001b[0;34m.\u001b[0m\u001b[0menable_auto_cast_variables\u001b[0m\u001b[0;34m(\u001b[0m\u001b[0mself\u001b[0m\u001b[0;34m.\u001b[0m\u001b[0m_compute_dtype_object\u001b[0m\u001b[0;34m)\u001b[0m\u001b[0;34m:\u001b[0m\u001b[0;34m\u001b[0m\u001b[0;34m\u001b[0m\u001b[0m\n\u001b[0;32m--> 985\u001b[0;31m           \u001b[0moutputs\u001b[0m \u001b[0;34m=\u001b[0m \u001b[0mcall_fn\u001b[0m\u001b[0;34m(\u001b[0m\u001b[0minputs\u001b[0m\u001b[0;34m,\u001b[0m \u001b[0;34m*\u001b[0m\u001b[0margs\u001b[0m\u001b[0;34m,\u001b[0m \u001b[0;34m**\u001b[0m\u001b[0mkwargs\u001b[0m\u001b[0;34m)\u001b[0m\u001b[0;34m\u001b[0m\u001b[0;34m\u001b[0m\u001b[0m\n\u001b[0m\u001b[1;32m    986\u001b[0m \u001b[0;34m\u001b[0m\u001b[0m\n\u001b[1;32m    987\u001b[0m         \u001b[0;32mif\u001b[0m \u001b[0mself\u001b[0m\u001b[0;34m.\u001b[0m\u001b[0m_activity_regularizer\u001b[0m\u001b[0;34m:\u001b[0m\u001b[0;34m\u001b[0m\u001b[0;34m\u001b[0m\u001b[0m\n",
            "\u001b[0;32m<ipython-input-42-8fbdc7a87285>\u001b[0m in \u001b[0;36mcall\u001b[0;34m(self, x, training)\u001b[0m\n\u001b[1;32m      9\u001b[0m   \u001b[0;32mdef\u001b[0m \u001b[0mcall\u001b[0m\u001b[0;34m(\u001b[0m\u001b[0mself\u001b[0m\u001b[0;34m,\u001b[0m \u001b[0mx\u001b[0m\u001b[0;34m,\u001b[0m \u001b[0mtraining\u001b[0m \u001b[0;34m=\u001b[0m \u001b[0;32mTrue\u001b[0m\u001b[0;34m)\u001b[0m\u001b[0;34m:\u001b[0m\u001b[0;34m\u001b[0m\u001b[0;34m\u001b[0m\u001b[0m\n\u001b[1;32m     10\u001b[0m     \u001b[0mx\u001b[0m \u001b[0;34m=\u001b[0m \u001b[0mself\u001b[0m\u001b[0;34m.\u001b[0m\u001b[0mencoder\u001b[0m\u001b[0;34m(\u001b[0m\u001b[0mx\u001b[0m\u001b[0;34m,\u001b[0m \u001b[0mtraining\u001b[0m\u001b[0;34m)\u001b[0m\u001b[0;34m\u001b[0m\u001b[0;34m\u001b[0m\u001b[0m\n\u001b[0;32m---> 11\u001b[0;31m     \u001b[0mx\u001b[0m \u001b[0;34m=\u001b[0m \u001b[0mself\u001b[0m\u001b[0;34m.\u001b[0m\u001b[0mdecoder\u001b[0m\u001b[0;34m(\u001b[0m\u001b[0mx\u001b[0m\u001b[0;34m,\u001b[0m \u001b[0mtraining\u001b[0m\u001b[0;34m)\u001b[0m\u001b[0;34m\u001b[0m\u001b[0;34m\u001b[0m\u001b[0m\n\u001b[0m\u001b[1;32m     12\u001b[0m     \u001b[0;32mreturn\u001b[0m \u001b[0mx\u001b[0m\u001b[0;34m\u001b[0m\u001b[0;34m\u001b[0m\u001b[0m\n",
            "\u001b[0;32m/usr/local/lib/python3.6/dist-packages/tensorflow/python/keras/engine/base_layer.py\u001b[0m in \u001b[0;36m__call__\u001b[0;34m(self, *args, **kwargs)\u001b[0m\n\u001b[1;32m    983\u001b[0m \u001b[0;34m\u001b[0m\u001b[0m\n\u001b[1;32m    984\u001b[0m         \u001b[0;32mwith\u001b[0m \u001b[0mops\u001b[0m\u001b[0;34m.\u001b[0m\u001b[0menable_auto_cast_variables\u001b[0m\u001b[0;34m(\u001b[0m\u001b[0mself\u001b[0m\u001b[0;34m.\u001b[0m\u001b[0m_compute_dtype_object\u001b[0m\u001b[0;34m)\u001b[0m\u001b[0;34m:\u001b[0m\u001b[0;34m\u001b[0m\u001b[0;34m\u001b[0m\u001b[0m\n\u001b[0;32m--> 985\u001b[0;31m           \u001b[0moutputs\u001b[0m \u001b[0;34m=\u001b[0m \u001b[0mcall_fn\u001b[0m\u001b[0;34m(\u001b[0m\u001b[0minputs\u001b[0m\u001b[0;34m,\u001b[0m \u001b[0;34m*\u001b[0m\u001b[0margs\u001b[0m\u001b[0;34m,\u001b[0m \u001b[0;34m**\u001b[0m\u001b[0mkwargs\u001b[0m\u001b[0;34m)\u001b[0m\u001b[0;34m\u001b[0m\u001b[0;34m\u001b[0m\u001b[0m\n\u001b[0m\u001b[1;32m    986\u001b[0m \u001b[0;34m\u001b[0m\u001b[0m\n\u001b[1;32m    987\u001b[0m         \u001b[0;32mif\u001b[0m \u001b[0mself\u001b[0m\u001b[0;34m.\u001b[0m\u001b[0m_activity_regularizer\u001b[0m\u001b[0;34m:\u001b[0m\u001b[0;34m\u001b[0m\u001b[0;34m\u001b[0m\u001b[0m\n",
            "\u001b[0;31mTypeError\u001b[0m: call() takes 2 positional arguments but 3 were given"
          ]
        }
      ]
    }
  ]
}