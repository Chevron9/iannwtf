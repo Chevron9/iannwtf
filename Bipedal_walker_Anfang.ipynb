{
  "nbformat": 4,
  "nbformat_minor": 0,
  "metadata": {
    "colab": {
      "name": "Bipedal_walker_Anfang.ipynb",
      "provenance": [],
      "collapsed_sections": [],
      "authorship_tag": "ABX9TyNeVO5jVkOg/LV4RsAEh+ot",
      "include_colab_link": true
    },
    "kernelspec": {
      "name": "python3",
      "display_name": "Python 3"
    }
  },
  "cells": [
    {
      "cell_type": "markdown",
      "metadata": {
        "id": "view-in-github",
        "colab_type": "text"
      },
      "source": [
        "<a href=\"https://colab.research.google.com/github/Chevron9/iannwtf/blob/Roho7/Bipedal_walker_Anfang.ipynb\" target=\"_parent\"><img src=\"https://colab.research.google.com/assets/colab-badge.svg\" alt=\"Open In Colab\"/></a>"
      ]
    },
    {
      "cell_type": "code",
      "metadata": {
        "id": "Sw6fcuviUiB3"
      },
      "source": [
        "import numpy as np\r\n",
        "import gym\r\n",
        "import time\r\n",
        "import random\r\n",
        "from IPython.display import clear_output"
      ],
      "execution_count": 2,
      "outputs": []
    },
    {
      "cell_type": "code",
      "metadata": {
        "id": "e31qC5DTVlyS"
      },
      "source": [
        "env = gym.make(\"BipedalWalker-v2\")"
      ],
      "execution_count": null,
      "outputs": []
    },
    {
      "cell_type": "code",
      "metadata": {
        "id": "0DRc1UTcWPN5"
      },
      "source": [
        "observation = env.reset()\r\n",
        "for _ in range(1000):\r\n",
        "  env.render()\r\n",
        "  action = env.action_space.sample() # your agent here (this takes random actions)\r\n",
        "  observation, reward, done, info = env.step(action)\r\n",
        "\r\n",
        "  if done:\r\n",
        "    observation = env.reset()\r\n",
        "env.close()\r\n"
      ],
      "execution_count": null,
      "outputs": []
    }
  ]
}